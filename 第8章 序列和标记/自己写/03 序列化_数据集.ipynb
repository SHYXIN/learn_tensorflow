{
 "cells": [
  {
   "cell_type": "markdown",
   "metadata": {},
   "source": [
    "下载新闻标题数据集，来分析是负面还是正面"
   ]
  },
  {
   "cell_type": "code",
   "execution_count": 7,
   "metadata": {},
   "outputs": [
    {
     "name": "stdout",
     "output_type": "stream",
     "text": [
      "[{'article_link': 'https://www.huffingtonpost.com/entry/versace-black-code_us_5861fbefe4b0de3a08f600d5', 'headline': \"former versace store clerk sues over secret 'black code' for minority shoppers\", 'is_sarcastic': 0}, {'article_link': 'https://www.huffingtonpost.com/entry/roseanne-revival-review_us_5ab3a497e4b054d118e04365', 'headline': \"the 'roseanne' revival catches up to our thorny political mood, for better and worse\", 'is_sarcastic': 0}]\n"
     ]
    }
   ],
   "source": [
    "import json\n",
    "\n",
    "with open('../tmp/sarcasm.json', 'r') as f:\n",
    "    datastore = json.load(f)\n",
    "print(datastore[:2])\n",
    "# 如下\n",
    "'''\n",
    "[\n",
    "     {\n",
    "          \"article_link\": \"https://www.huffingtonpost.com/entry/versace-black-code_us_5861fbefe4b0de3a08f600d5\",  # 文章链接\n",
    "          \"headline\": \"former versace store clerk sues over secret 'black code' for minority shoppers\", # 文章标题\n",
    "          \"is_sarcastic\": 0  # 是不是讽刺的\n",
    "     },\n",
    "     {\n",
    "          \"article_link\": \"https://www.huffingtonpost.com/entry/roseanne-revival-review_us_5ab3a497e4b054d118e04365\",\n",
    "          \"headline\": \"the 'roseanne' revival catches up to our thorny political mood, for better and worse\",\n",
    "          \"is_sarcastic\": 0\n",
    "     }\n",
    "]\n",
    "'''\n",
    "sentences=[]  # 句子\n",
    "labels = []  # 标签\n",
    "urls = [] # 对应的url\n",
    "for item in datastore:\n",
    "    sentences.append(item['headline'])\n",
    "    labels.append(item['is_sarcastic'])\n",
    "    urls.append(item['article_link'])\n"
   ]
  },
  {
   "cell_type": "code",
   "execution_count": 17,
   "metadata": {},
   "outputs": [
    {
     "name": "stdout",
     "output_type": "stream",
     "text": [
      "29657\n",
      "[[308, 15115, 679, 3337, 2298, 48, 382, 2576, 15116, 6, 2577, 8434], [4, 8435, 3338, 2746, 22, 2, 166, 8436, 416, 3112, 6, 258, 9, 1002]]\n",
      "[[  308 15115   679  3337  2298    48   382  2576 15116     6  2577  8434\n",
      "      0     0     0     0     0     0     0     0     0     0     0     0\n",
      "      0     0     0     0     0     0     0     0     0     0     0     0\n",
      "      0     0     0     0]\n",
      " [    4  8435  3338  2746    22     2   166  8436   416  3112     6   258\n",
      "      9  1002     0     0     0     0     0     0     0     0     0     0\n",
      "      0     0     0     0     0     0     0     0     0     0     0     0\n",
      "      0     0     0     0]]\n"
     ]
    }
   ],
   "source": [
    "from tensorflow.keras.preprocessing.text import Tokenizer\n",
    "from tensorflow.keras.preprocessing.sequence import pad_sequences\n",
    "\n",
    "tokenizer = Tokenizer(oov_token=\"<OOV>\")  # 初始化标记器定义未登录词为<oov>\n",
    "tokenizer.fit_on_texts(sentences)\n",
    "word_index = tokenizer.word_index\n",
    "print(len(word_index))  # 一个字典接近3万多词语\n",
    "sequences = tokenizer.texts_to_sequences(sentences)  # 生成每句话的序列\n",
    "print(sequences[:2])\n",
    "padded = pad_sequences(sequences, padding='post') # 生成统一长度的序列\n",
    "print(padded[:2])  # 补齐长度方便进入神经网络"
   ]
  }
 ],
 "metadata": {
  "interpreter": {
   "hash": "23b34fee034e6c6559cf1b732e166f57ae608166b2226a83e90a4ecbc0876e39"
  },
  "kernelspec": {
   "display_name": "Python 3.7.13",
   "language": "python",
   "name": "python3"
  },
  "language_info": {
   "codemirror_mode": {
    "name": "ipython",
    "version": 3
   },
   "file_extension": ".py",
   "mimetype": "text/x-python",
   "name": "python",
   "nbconvert_exporter": "python",
   "pygments_lexer": "ipython3",
   "version": "3.7.13"
  },
  "orig_nbformat": 4
 },
 "nbformat": 4,
 "nbformat_minor": 2
}
