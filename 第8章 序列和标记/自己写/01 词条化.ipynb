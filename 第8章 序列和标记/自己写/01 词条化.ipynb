{
 "cells": [
  {
   "cell_type": "code",
   "execution_count": 16,
   "metadata": {},
   "outputs": [
    {
     "name": "stdout",
     "output_type": "stream",
     "text": [
      "{'love': 1, 'my': 2, 'i': 3, 'dog': 4, 'cat': 5, 'you': 6}\n"
     ]
    }
   ],
   "source": [
    "from tensorflow.keras.preprocessing.text import Tokenizer\n",
    "\n",
    "# 句子列表\n",
    "sentences = [\n",
    "    'i love my dog',\n",
    "    'i love my cat',\n",
    "    'You love my dog!',\n",
    "]\n",
    "# 标记类实例化\n",
    "tokenizer = Tokenizer(num_words=100)  # 最大长度为100\n",
    "tokenizer.fit_on_texts(sentences)  # 拟合文本\n",
    "word_index = tokenizer.word_index\n",
    "\n",
    "print(word_index)   # word_index 一个dict，保存所有word对应的编号id，从1开始"
   ]
  }
 ],
 "metadata": {
  "interpreter": {
   "hash": "23b34fee034e6c6559cf1b732e166f57ae608166b2226a83e90a4ecbc0876e39"
  },
  "kernelspec": {
   "display_name": "Python 3.7.13",
   "language": "python",
   "name": "python3"
  },
  "language_info": {
   "codemirror_mode": {
    "name": "ipython",
    "version": 3
   },
   "file_extension": ".py",
   "mimetype": "text/x-python",
   "name": "python",
   "nbconvert_exporter": "python",
   "pygments_lexer": "ipython3",
   "version": "3.7.13"
  },
  "orig_nbformat": 4
 },
 "nbformat": 4,
 "nbformat_minor": 2
}
