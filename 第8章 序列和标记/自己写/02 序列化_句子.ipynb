{
 "cells": [
  {
   "cell_type": "code",
   "execution_count": 7,
   "metadata": {},
   "outputs": [
    {
     "name": "stdout",
     "output_type": "stream",
     "text": [
      "Word Index =  {'<OOV>': 1, 'my': 2, 'love': 3, 'dog': 4, 'i': 5, 'you': 6, 'cat': 7, 'do': 8, 'think': 9, 'is': 10, 'amazing': 11}\n",
      "Sequences =  [[5, 3, 2, 4], [5, 3, 2, 7], [6, 3, 2, 4], [8, 6, 9, 2, 4, 10, 11]]\n",
      "Padded Sequences:\n",
      "[[ 0  0  0  0  5  3  2  4]\n",
      " [ 0  0  0  0  5  3  2  7]\n",
      " [ 0  0  0  0  6  3  2  4]\n",
      " [ 0  8  6  9  2  4 10 11]]\n"
     ]
    }
   ],
   "source": [
    "from tensorflow.keras.preprocessing.text import Tokenizer\n",
    "from tensorflow.keras.preprocessing.sequence import pad_sequences\n",
    "\n",
    "# 不一样的句子长度\n",
    "sentences = [\n",
    "    'I love my dog',\n",
    "    'I love my cat',\n",
    "    'You love my dog!',\n",
    "    'Do you think my dog is amazing?'\n",
    "]\n",
    "\n",
    "tokenizer = Tokenizer(num_words=100, oov_token='<OOV>')  # 默认词会被放在第一个\n",
    "tokenizer.fit_on_texts(sentences)\n",
    "word_index=tokenizer.word_index\n",
    "# print(word_index)\n",
    "\n",
    "# 将文本转成序列\n",
    "sequences = tokenizer.texts_to_sequences(sentences)\n",
    "\n",
    "padded = pad_sequences(sequences, maxlen=8)  # 统一长度，且最长为8\n",
    "print(\"Word Index = \" , word_index)\n",
    "print(\"Sequences = \" , sequences)\n",
    "print(\"Padded Sequences:\")\n",
    "print(padded)\n",
    "\n"
   ]
  },
  {
   "cell_type": "code",
   "execution_count": 10,
   "metadata": {},
   "outputs": [
    {
     "name": "stdout",
     "output_type": "stream",
     "text": [
      "\u001b[1;31mSignature:\u001b[0m\n",
      "\u001b[0mpad_sequences\u001b[0m\u001b[1;33m(\u001b[0m\u001b[1;33m\n",
      "\u001b[0m    \u001b[0msequences\u001b[0m\u001b[1;33m,\u001b[0m\u001b[1;33m\n",
      "\u001b[0m    \u001b[0mmaxlen\u001b[0m\u001b[1;33m=\u001b[0m\u001b[1;32mNone\u001b[0m\u001b[1;33m,\u001b[0m\u001b[1;33m\n",
      "\u001b[0m    \u001b[0mdtype\u001b[0m\u001b[1;33m=\u001b[0m\u001b[1;34m'int32'\u001b[0m\u001b[1;33m,\u001b[0m\u001b[1;33m\n",
      "\u001b[0m    \u001b[0mpadding\u001b[0m\u001b[1;33m=\u001b[0m\u001b[1;34m'pre'\u001b[0m\u001b[1;33m,\u001b[0m\u001b[1;33m\n",
      "\u001b[0m    \u001b[0mtruncating\u001b[0m\u001b[1;33m=\u001b[0m\u001b[1;34m'pre'\u001b[0m\u001b[1;33m,\u001b[0m\u001b[1;33m\n",
      "\u001b[0m    \u001b[0mvalue\u001b[0m\u001b[1;33m=\u001b[0m\u001b[1;36m0.0\u001b[0m\u001b[1;33m,\u001b[0m\u001b[1;33m\n",
      "\u001b[0m\u001b[1;33m)\u001b[0m\u001b[1;33m\u001b[0m\u001b[1;33m\u001b[0m\u001b[0m\n",
      "\u001b[1;31mDocstring:\u001b[0m\n",
      "Pads sequences to the same length.\n",
      "\n",
      "This function transforms a list of\n",
      "`num_samples` sequences (lists of integers)\n",
      "into a 2D Numpy array of shape `(num_samples, num_timesteps)`.\n",
      "`num_timesteps` is either the `maxlen` argument if provided,\n",
      "or the length of the longest sequence otherwise.\n",
      "\n",
      "Sequences that are shorter than `num_timesteps`\n",
      "are padded with `value` at the beginning or the end\n",
      "if padding='post.\n",
      "\n",
      "Sequences longer than `num_timesteps` are truncated\n",
      "so that they fit the desired length.\n",
      "The position where padding or truncation happens is determined by\n",
      "the arguments `padding` and `truncating`, respectively.\n",
      "\n",
      "Pre-padding is the default.\n",
      "\n",
      "# Arguments\n",
      "    sequences: List of lists, where each element is a sequence.\n",
      "    maxlen: Int, maximum length of all sequences.\n",
      "    dtype: Type of the output sequences.\n",
      "        To pad sequences with variable length strings, you can use `object`.\n",
      "    padding: String, 'pre' or 'post':\n",
      "        pad either before or after each sequence.\n",
      "    truncating: String, 'pre' or 'post':\n",
      "        remove values from sequences larger than\n",
      "        `maxlen`, either at the beginning or at the end of the sequences.\n",
      "    value: Float or String, padding value.\n",
      "\n",
      "# Returns\n",
      "    x: Numpy array with shape `(len(sequences), maxlen)`\n",
      "\n",
      "# Raises\n",
      "    ValueError: In case of invalid values for `truncating` or `padding`,\n",
      "        or in case of invalid shape for a `sequences` entry.\n",
      "\u001b[1;31mFile:\u001b[0m      c:\\users\\wx847\\anaconda3\\envs\\learn_tensorflow\\lib\\site-packages\\keras_preprocessing\\sequence.py\n",
      "\u001b[1;31mType:\u001b[0m      function\n"
     ]
    }
   ],
   "source": [
    "?pad_sequences"
   ]
  }
 ],
 "metadata": {
  "interpreter": {
   "hash": "23b34fee034e6c6559cf1b732e166f57ae608166b2226a83e90a4ecbc0876e39"
  },
  "kernelspec": {
   "display_name": "Python 3.7.13",
   "language": "python",
   "name": "python3"
  },
  "language_info": {
   "name": "python",
   "version": "3.7.13"
  },
  "orig_nbformat": 4
 },
 "nbformat": 4,
 "nbformat_minor": 2
}
