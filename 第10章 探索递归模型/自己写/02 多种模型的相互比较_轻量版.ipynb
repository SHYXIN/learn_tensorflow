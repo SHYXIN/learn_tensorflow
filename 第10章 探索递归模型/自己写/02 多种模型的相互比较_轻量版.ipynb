{
 "cells": [
  {
   "cell_type": "code",
   "execution_count": 1,
   "metadata": {},
   "outputs": [
    {
     "name": "stdout",
     "output_type": "stream",
     "text": [
      "2.1.0\n"
     ]
    }
   ],
   "source": [
    "import tensorflow as tf\n",
    "print(tf.__version__)"
   ]
  },
  {
   "cell_type": "code",
   "execution_count": 2,
   "metadata": {},
   "outputs": [
    {
     "name": "stderr",
     "output_type": "stream",
     "text": [
      "C:\\Users\\WX847\\Anaconda3\\envs\\learn_tensorflow\\lib\\site-packages\\tqdm\\auto.py:22: TqdmWarning: IProgress not found. Please update jupyter and ipywidgets. See https://ipywidgets.readthedocs.io/en/stable/user_install.html\n",
      "  from .autonotebook import tqdm as notebook_tqdm\n"
     ]
    }
   ],
   "source": [
    "import tensorflow_datasets as tfds\n",
    "imdb, info = tfds.load(\"imdb_reviews\", with_info=True, as_supervised=True)"
   ]
  },
  {
   "cell_type": "code",
   "execution_count": 3,
   "metadata": {},
   "outputs": [],
   "source": [
    "import numpy as np\n",
    "\n",
    "# train_data, test_data = imdb['train'], imdb['test']\n",
    "train_data, test_data = imdb['train'].take(4000), imdb['test'].take(1000)\n",
    "\n",
    "training_sentences = []\n",
    "training_labels = []\n",
    "\n",
    "testing_sentences = []\n",
    "testing_labels = []\n",
    "\n",
    "# str(s.tonumpy()) is needed in Python3 instead of just s.numpy()\n",
    "for s,l in train_data:\n",
    "  training_sentences.append(str(s.numpy()))\n",
    "  training_labels.append(l.numpy())\n",
    "  \n",
    "for s,l in test_data:\n",
    "  testing_sentences.append(str(s.numpy()))\n",
    "  testing_labels.append(l.numpy())\n",
    "  \n",
    "training_labels_final = np.array(training_labels)\n",
    "testing_labels_final = np.array(testing_labels)"
   ]
  },
  {
   "cell_type": "code",
   "execution_count": 4,
   "metadata": {},
   "outputs": [],
   "source": [
    "vocab_size = 10000\n",
    "embedding_dim = 16\n",
    "max_length = 120\n",
    "trunc_type='post'\n",
    "oov_tok = \"<OOV>\"\n",
    "\n",
    "\n",
    "from tensorflow.keras.preprocessing.text import Tokenizer\n",
    "from tensorflow.keras.preprocessing.sequence import pad_sequences\n",
    "\n",
    "tokenizer = Tokenizer(num_words = vocab_size, oov_token=oov_tok)\n",
    "tokenizer.fit_on_texts(training_sentences)\n",
    "word_index = tokenizer.word_index\n",
    "sequences = tokenizer.texts_to_sequences(training_sentences)\n",
    "padded = pad_sequences(sequences,maxlen=max_length, truncating=trunc_type)\n",
    "\n",
    "testing_sequences = tokenizer.texts_to_sequences(testing_sentences)\n",
    "testing_padded = pad_sequences(testing_sequences,maxlen=max_length)\n",
    "\n"
   ]
  },
  {
   "cell_type": "code",
   "execution_count": 5,
   "metadata": {},
   "outputs": [
    {
     "name": "stdout",
     "output_type": "stream",
     "text": [
      "? ? ? ? ? ? ? b'i have been known to fall asleep during films but this is usually due to a combination of things including really tired being warm and comfortable on the <OOV> and having just eaten a lot however on this occasion i fell asleep because the film was rubbish the plot development was constant constantly slow and boring things seemed to happen but with no explanation of what was causing them or why i admit i may have missed part of the film but i watched the majority of it and everything just seemed to happen of its own <OOV> without any real concern for anything else i cant recommend this film at all '\n",
      "b'I have been known to fall asleep during films, but this is usually due to a combination of things including, really tired, being warm and comfortable on the sette and having just eaten a lot. However on this occasion I fell asleep because the film was rubbish. The plot development was constant. Constantly slow and boring. Things seemed to happen, but with no explanation of what was causing them or why. I admit, I may have missed part of the film, but i watched the majority of it and everything just seemed to happen of its own accord without any real concern for anything else. I cant recommend this film at all.'\n"
     ]
    }
   ],
   "source": [
    "reverse_word_index = dict([(value, key) for (key, value) in word_index.items()])\n",
    "\n",
    "def decode_review(text):\n",
    "    return ' '.join([reverse_word_index.get(i, '?') for i in text])\n",
    "\n",
    "print(decode_review(padded[1]))\n",
    "print(training_sentences[1])"
   ]
  },
  {
   "cell_type": "code",
   "execution_count": 6,
   "metadata": {},
   "outputs": [
    {
     "name": "stdout",
     "output_type": "stream",
     "text": [
      "Model: \"sequential\"\n",
      "_________________________________________________________________\n",
      "Layer (type)                 Output Shape              Param #   \n",
      "=================================================================\n",
      "embedding (Embedding)        (None, 120, 16)           160000    \n",
      "_________________________________________________________________\n",
      "bidirectional (Bidirectional (None, 64)                9600      \n",
      "_________________________________________________________________\n",
      "dense (Dense)                (None, 6)                 390       \n",
      "_________________________________________________________________\n",
      "dense_1 (Dense)              (None, 1)                 7         \n",
      "=================================================================\n",
      "Total params: 169,997\n",
      "Trainable params: 169,997\n",
      "Non-trainable params: 0\n",
      "_________________________________________________________________\n"
     ]
    }
   ],
   "source": [
    "model_gru = tf.keras.Sequential([\n",
    "    tf.keras.layers.Embedding(vocab_size, embedding_dim, input_length=max_length),\n",
    "    tf.keras.layers.Bidirectional(tf.keras.layers.GRU(32)),\n",
    "    tf.keras.layers.Dense(6, activation='relu'),\n",
    "    tf.keras.layers.Dense(1, activation='sigmoid')\n",
    "])\n",
    "model_gru.compile(loss='binary_crossentropy',optimizer='adam',metrics=['accuracy'])\n",
    "model_gru.summary()"
   ]
  },
  {
   "cell_type": "code",
   "execution_count": 7,
   "metadata": {},
   "outputs": [
    {
     "name": "stdout",
     "output_type": "stream",
     "text": [
      "Train on 4000 samples, validate on 1000 samples\n",
      "Epoch 1/50\n",
      "4000/4000 [==============================] - 10s 3ms/sample - loss: 0.6928 - accuracy: 0.5180 - val_loss: 0.6900 - val_accuracy: 0.5450\n",
      "Epoch 2/50\n",
      "4000/4000 [==============================] - 3s 774us/sample - loss: 0.6246 - accuracy: 0.6645 - val_loss: 0.5800 - val_accuracy: 0.7060\n",
      "Epoch 3/50\n",
      "4000/4000 [==============================] - 3s 789us/sample - loss: 0.3237 - accuracy: 0.8668 - val_loss: 0.5121 - val_accuracy: 0.7750\n",
      "Epoch 4/50\n",
      "4000/4000 [==============================] - 3s 795us/sample - loss: 0.1232 - accuracy: 0.9563 - val_loss: 0.6193 - val_accuracy: 0.7830\n",
      "Epoch 5/50\n",
      "4000/4000 [==============================] - 3s 800us/sample - loss: 0.0403 - accuracy: 0.9887 - val_loss: 0.7251 - val_accuracy: 0.7580\n",
      "Epoch 6/50\n",
      "4000/4000 [==============================] - 3s 817us/sample - loss: 0.0179 - accuracy: 0.9950 - val_loss: 1.0878 - val_accuracy: 0.7420\n",
      "Epoch 7/50\n",
      "4000/4000 [==============================] - 3s 786us/sample - loss: 0.0113 - accuracy: 0.9970 - val_loss: 0.9678 - val_accuracy: 0.7610\n",
      "Epoch 8/50\n",
      "4000/4000 [==============================] - 3s 789us/sample - loss: 0.0061 - accuracy: 0.9987 - val_loss: 1.1373 - val_accuracy: 0.7720\n",
      "Epoch 9/50\n",
      "4000/4000 [==============================] - 3s 780us/sample - loss: 0.0014 - accuracy: 0.9998 - val_loss: 1.2566 - val_accuracy: 0.7700\n",
      "Epoch 10/50\n",
      "4000/4000 [==============================] - 3s 787us/sample - loss: 6.0908e-04 - accuracy: 1.0000 - val_loss: 1.3017 - val_accuracy: 0.7650\n",
      "Epoch 11/50\n",
      "4000/4000 [==============================] - 3s 796us/sample - loss: 3.4008e-04 - accuracy: 1.0000 - val_loss: 1.4084 - val_accuracy: 0.7690\n",
      "Epoch 12/50\n",
      "4000/4000 [==============================] - 3s 786us/sample - loss: 2.1439e-04 - accuracy: 1.0000 - val_loss: 1.4687 - val_accuracy: 0.7710\n",
      "Epoch 13/50\n",
      "4000/4000 [==============================] - 3s 822us/sample - loss: 1.6580e-04 - accuracy: 1.0000 - val_loss: 1.5148 - val_accuracy: 0.7700\n",
      "Epoch 14/50\n",
      "4000/4000 [==============================] - 3s 793us/sample - loss: 1.3609e-04 - accuracy: 1.0000 - val_loss: 1.5506 - val_accuracy: 0.7710\n",
      "Epoch 15/50\n",
      "4000/4000 [==============================] - 3s 795us/sample - loss: 1.1067e-04 - accuracy: 1.0000 - val_loss: 1.5844 - val_accuracy: 0.7680\n",
      "Epoch 16/50\n",
      "4000/4000 [==============================] - 3s 798us/sample - loss: 9.2983e-05 - accuracy: 1.0000 - val_loss: 1.6099 - val_accuracy: 0.7680\n",
      "Epoch 17/50\n",
      "4000/4000 [==============================] - 3s 779us/sample - loss: 7.7702e-05 - accuracy: 1.0000 - val_loss: 1.6413 - val_accuracy: 0.7670\n",
      "Epoch 18/50\n",
      "4000/4000 [==============================] - 3s 793us/sample - loss: 6.5759e-05 - accuracy: 1.0000 - val_loss: 1.6713 - val_accuracy: 0.7670\n",
      "Epoch 19/50\n",
      "4000/4000 [==============================] - 3s 789us/sample - loss: 5.6761e-05 - accuracy: 1.0000 - val_loss: 1.7018 - val_accuracy: 0.7680\n",
      "Epoch 20/50\n",
      "4000/4000 [==============================] - 3s 792us/sample - loss: 4.9572e-05 - accuracy: 1.0000 - val_loss: 1.7271 - val_accuracy: 0.7680\n",
      "Epoch 21/50\n",
      "4000/4000 [==============================] - 3s 802us/sample - loss: 4.3223e-05 - accuracy: 1.0000 - val_loss: 1.7508 - val_accuracy: 0.7670\n",
      "Epoch 22/50\n",
      "4000/4000 [==============================] - 3s 795us/sample - loss: 3.8177e-05 - accuracy: 1.0000 - val_loss: 1.7716 - val_accuracy: 0.7650\n",
      "Epoch 23/50\n",
      "4000/4000 [==============================] - 3s 785us/sample - loss: 3.3775e-05 - accuracy: 1.0000 - val_loss: 1.7920 - val_accuracy: 0.7660\n",
      "Epoch 24/50\n",
      "4000/4000 [==============================] - 3s 804us/sample - loss: 3.0136e-05 - accuracy: 1.0000 - val_loss: 1.8128 - val_accuracy: 0.7650\n",
      "Epoch 25/50\n",
      "4000/4000 [==============================] - 3s 786us/sample - loss: 2.6660e-05 - accuracy: 1.0000 - val_loss: 1.8391 - val_accuracy: 0.7660: 0s - loss: 2.6676e-05 - \n",
      "Epoch 26/50\n",
      "4000/4000 [==============================] - 3s 784us/sample - loss: 2.4020e-05 - accuracy: 1.0000 - val_loss: 1.8557 - val_accuracy: 0.7650\n",
      "Epoch 27/50\n",
      "4000/4000 [==============================] - 3s 792us/sample - loss: 2.1541e-05 - accuracy: 1.0000 - val_loss: 1.8749 - val_accuracy: 0.7670\n",
      "Epoch 28/50\n",
      "4000/4000 [==============================] - 3s 839us/sample - loss: 1.9475e-05 - accuracy: 1.0000 - val_loss: 1.8942 - val_accuracy: 0.7650\n",
      "Epoch 29/50\n",
      "4000/4000 [==============================] - 3s 840us/sample - loss: 1.7569e-05 - accuracy: 1.0000 - val_loss: 1.9125 - val_accuracy: 0.7670\n",
      "Epoch 30/50\n",
      "4000/4000 [==============================] - 3s 796us/sample - loss: 1.5990e-05 - accuracy: 1.0000 - val_loss: 1.9300 - val_accuracy: 0.7650\n",
      "Epoch 31/50\n",
      "4000/4000 [==============================] - 3s 776us/sample - loss: 1.4486e-05 - accuracy: 1.0000 - val_loss: 1.9476 - val_accuracy: 0.7670\n",
      "Epoch 32/50\n",
      "4000/4000 [==============================] - 3s 789us/sample - loss: 1.3166e-05 - accuracy: 1.0000 - val_loss: 1.9621 - val_accuracy: 0.7670\n",
      "Epoch 33/50\n",
      "4000/4000 [==============================] - 3s 789us/sample - loss: 1.2085e-05 - accuracy: 1.0000 - val_loss: 1.9751 - val_accuracy: 0.7670\n",
      "Epoch 34/50\n",
      "4000/4000 [==============================] - 3s 777us/sample - loss: 1.0960e-05 - accuracy: 1.0000 - val_loss: 1.9900 - val_accuracy: 0.7690146e-05 - ac\n",
      "Epoch 35/50\n",
      "4000/4000 [==============================] - 3s 783us/sample - loss: 1.0065e-05 - accuracy: 1.0000 - val_loss: 2.0056 - val_accuracy: 0.7680\n",
      "Epoch 36/50\n",
      "4000/4000 [==============================] - 3s 783us/sample - loss: 9.1991e-06 - accuracy: 1.0000 - val_loss: 2.0180 - val_accuracy: 0.7670 - - ETA: 1s - los\n",
      "Epoch 37/50\n",
      "4000/4000 [==============================] - 3s 792us/sample - loss: 8.4148e-06 - accuracy: 1.0000 - val_loss: 2.0313 - val_accuracy: 0.7670\n",
      "Epoch 38/50\n",
      "4000/4000 [==============================] - 3s 801us/sample - loss: 7.7663e-06 - accuracy: 1.0000 - val_loss: 2.0466 - val_accuracy: 0.7670\n",
      "Epoch 39/50\n",
      "4000/4000 [==============================] - 3s 800us/sample - loss: 7.1085e-06 - accuracy: 1.0000 - val_loss: 2.0585 - val_accuracy: 0.7660\n",
      "Epoch 40/50\n",
      "4000/4000 [==============================] - 3s 811us/sample - loss: 6.5474e-06 - accuracy: 1.0000 - val_loss: 2.0728 - val_accuracy: 0.7670\n",
      "Epoch 41/50\n",
      "4000/4000 [==============================] - 3s 820us/sample - loss: 6.0147e-06 - accuracy: 1.0000 - val_loss: 2.0890 - val_accuracy: 0.7670\n",
      "Epoch 42/50\n",
      "4000/4000 [==============================] - 3s 801us/sample - loss: 5.5290e-06 - accuracy: 1.0000 - val_loss: 2.1007 - val_accuracy: 0.7680\n",
      "Epoch 43/50\n",
      "4000/4000 [==============================] - 3s 805us/sample - loss: 5.1171e-06 - accuracy: 1.0000 - val_loss: 2.1150 - val_accuracy: 0.7660curacy: 1.\n",
      "Epoch 44/50\n",
      "4000/4000 [==============================] - 3s 807us/sample - loss: 4.7080e-06 - accuracy: 1.0000 - val_loss: 2.1281 - val_accuracy: 0.7660\n",
      "Epoch 45/50\n",
      "4000/4000 [==============================] - 3s 794us/sample - loss: 4.3510e-06 - accuracy: 1.0000 - val_loss: 2.1416 - val_accuracy: 0.7680\n",
      "Epoch 46/50\n",
      "4000/4000 [==============================] - 3s 817us/sample - loss: 4.0124e-06 - accuracy: 1.0000 - val_loss: 2.1532 - val_accuracy: 0.7680 4.0035e-06 - \n",
      "Epoch 47/50\n",
      "4000/4000 [==============================] - 3s 774us/sample - loss: 3.7073e-06 - accuracy: 1.0000 - val_loss: 2.1648 - val_accuracy: 0.7690\n",
      "Epoch 48/50\n",
      "4000/4000 [==============================] - 3s 774us/sample - loss: 3.4237e-06 - accuracy: 1.0000 - val_loss: 2.1742 - val_accuracy: 0.7680\n",
      "Epoch 49/50\n",
      "4000/4000 [==============================] - 3s 841us/sample - loss: 3.1727e-06 - accuracy: 1.0000 - val_loss: 2.1870 - val_accuracy: 0.7690\n",
      "Epoch 50/50\n",
      "4000/4000 [==============================] - 3s 783us/sample - loss: 2.9277e-06 - accuracy: 1.0000 - val_loss: 2.2020 - val_accuracy: 0.7700\n"
     ]
    }
   ],
   "source": [
    "num_epochs = 50\n",
    "history_gru = model_gru.fit(padded, training_labels_final, epochs=num_epochs, validation_data=(testing_padded, testing_labels_final))"
   ]
  },
  {
   "cell_type": "code",
   "execution_count": 9,
   "metadata": {},
   "outputs": [],
   "source": [
    "model_gru.save('GRU神经网络.h5')"
   ]
  },
  {
   "cell_type": "code",
   "execution_count": 8,
   "metadata": {},
   "outputs": [
    {
     "data": {
      "image/png": "[encoded data removed]",
      "text/plain": [
       "<Figure size 432x288 with 1 Axes>"
      ]
     },
     "metadata": {
      "needs_background": "light"
     },
     "output_type": "display_data"
    },
    {
     "data": {
      "image/png": "[encoded data removed]",
      "text/plain": [
       "<Figure size 432x288 with 1 Axes>"
      ]
     },
     "metadata": {
      "needs_background": "light"
     },
     "output_type": "display_data"
    }
   ],
   "source": [
    "import matplotlib.pyplot as plt\n",
    "\n",
    "\n",
    "def plot_graphs(history, string):\n",
    "  plt.plot(history.history[string])\n",
    "  plt.plot(history.history['val_'+string])\n",
    "  plt.xlabel(\"Epochs\")\n",
    "  plt.ylabel(string)\n",
    "  plt.legend([string, 'val_'+string])\n",
    "  plt.show()\n",
    "\n",
    "plot_graphs(history_gru, 'accuracy')\n",
    "plot_graphs(history_gru, 'loss')"
   ]
  },
  {
   "cell_type": "markdown",
   "metadata": {},
   "source": [
    "LSTM神经网络模型"
   ]
  },
  {
   "cell_type": "code",
   "execution_count": 12,
   "metadata": {},
   "outputs": [
    {
     "name": "stdout",
     "output_type": "stream",
     "text": [
      "Model: \"sequential_2\"\n",
      "_________________________________________________________________\n",
      "Layer (type)                 Output Shape              Param #   \n",
      "=================================================================\n",
      "embedding_2 (Embedding)      (None, 120, 16)           160000    \n",
      "_________________________________________________________________\n",
      "bidirectional_2 (Bidirection (None, 64)                12544     \n",
      "_________________________________________________________________\n",
      "dense_4 (Dense)              (None, 6)                 390       \n",
      "_________________________________________________________________\n",
      "dense_5 (Dense)              (None, 1)                 7         \n",
      "=================================================================\n",
      "Total params: 172,941\n",
      "Trainable params: 172,941\n",
      "Non-trainable params: 0\n",
      "_________________________________________________________________\n"
     ]
    }
   ],
   "source": [
    "# Model Definition with LSTM\n",
    "model_lstm = tf.keras.Sequential([\n",
    "    tf.keras.layers.Embedding(vocab_size, embedding_dim, input_length=max_length),\n",
    "    tf.keras.layers.Bidirectional(tf.keras.layers.LSTM(32)),\n",
    "    tf.keras.layers.Dense(6, activation='relu'),\n",
    "    tf.keras.layers.Dense(1, activation='sigmoid')\n",
    "])\n",
    "model_lstm.compile(loss='binary_crossentropy',optimizer='adam',metrics=['accuracy'])\n",
    "model_lstm.summary()"
   ]
  },
  {
   "cell_type": "code",
   "execution_count": 14,
   "metadata": {},
   "outputs": [
    {
     "name": "stdout",
     "output_type": "stream",
     "text": [
      "Train on 4000 samples, validate on 1000 samples\n",
      "Epoch 1/50\n",
      "4000/4000 [==============================] - 4s 974us/sample - loss: 0.6678 - accuracy: 0.5893 - val_loss: 0.6752 - val_accuracy: 0.5380\n",
      "Epoch 2/50\n",
      "4000/4000 [==============================] - 3s 859us/sample - loss: 0.6558 - accuracy: 0.6597 - val_loss: 0.6191 - val_accuracy: 0.7010\n",
      "Epoch 3/50\n",
      "4000/4000 [==============================] - 3s 867us/sample - loss: 0.5325 - accuracy: 0.7157 - val_loss: 0.5934 - val_accuracy: 0.7420\n",
      "Epoch 4/50\n",
      "4000/4000 [==============================] - 3s 866us/sample - loss: 0.5337 - accuracy: 0.7605 - val_loss: 0.7011 - val_accuracy: 0.5220\n",
      "Epoch 5/50\n",
      "4000/4000 [==============================] - 3s 848us/sample - loss: 0.6384 - accuracy: 0.6877 - val_loss: 0.6932 - val_accuracy: 0.6150\n",
      "Epoch 6/50\n",
      "4000/4000 [==============================] - 3s 867us/sample - loss: 0.4620 - accuracy: 0.8110 - val_loss: 0.6054 - val_accuracy: 0.7220\n",
      "Epoch 7/50\n",
      "4000/4000 [==============================] - 3s 846us/sample - loss: 0.3725 - accuracy: 0.8575 - val_loss: 0.6186 - val_accuracy: 0.7290\n",
      "Epoch 8/50\n",
      "4000/4000 [==============================] - 3s 852us/sample - loss: 0.4924 - accuracy: 0.7527 - val_loss: 0.6031 - val_accuracy: 0.6800\n",
      "Epoch 9/50\n",
      "4000/4000 [==============================] - 3s 851us/sample - loss: 0.3929 - accuracy: 0.8120 - val_loss: 0.5496 - val_accuracy: 0.7520\n",
      "Epoch 10/50\n",
      "4000/4000 [==============================] - 3s 851us/sample - loss: 0.2337 - accuracy: 0.9155 - val_loss: 0.5650 - val_accuracy: 0.7560\n",
      "Epoch 11/50\n",
      "4000/4000 [==============================] - 3s 852us/sample - loss: 0.1430 - accuracy: 0.9555 - val_loss: 0.6170 - val_accuracy: 0.7550\n",
      "Epoch 12/50\n",
      "4000/4000 [==============================] - 3s 842us/sample - loss: 0.0929 - accuracy: 0.9737 - val_loss: 0.6936 - val_accuracy: 0.7620\n",
      "Epoch 13/50\n",
      "4000/4000 [==============================] - 4s 889us/sample - loss: 0.0641 - accuracy: 0.9837 - val_loss: 0.7962 - val_accuracy: 0.7530\n",
      "Epoch 14/50\n",
      "4000/4000 [==============================] - 3s 842us/sample - loss: 0.0453 - accuracy: 0.9893 - val_loss: 0.8289 - val_accuracy: 0.7690\n",
      "Epoch 15/50\n",
      "4000/4000 [==============================] - 3s 849us/sample - loss: 0.0317 - accuracy: 0.9940 - val_loss: 0.9764 - val_accuracy: 0.7600\n",
      "Epoch 16/50\n",
      "4000/4000 [==============================] - 4s 875us/sample - loss: 0.0214 - accuracy: 0.9965 - val_loss: 0.9859 - val_accuracy: 0.7650\n",
      "Epoch 17/50\n",
      "4000/4000 [==============================] - 3s 862us/sample - loss: 0.0171 - accuracy: 0.9975 - val_loss: 1.0251 - val_accuracy: 0.7640\n",
      "Epoch 18/50\n",
      "4000/4000 [==============================] - 3s 860us/sample - loss: 0.0150 - accuracy: 0.9977 - val_loss: 1.1177 - val_accuracy: 0.7630\n",
      "Epoch 19/50\n",
      "4000/4000 [==============================] - 4s 915us/sample - loss: 0.0135 - accuracy: 0.9973 - val_loss: 1.1067 - val_accuracy: 0.7700\n",
      "Epoch 20/50\n",
      "4000/4000 [==============================] - 3s 846us/sample - loss: 0.0094 - accuracy: 0.9987 - val_loss: 1.0973 - val_accuracy: 0.7680\n",
      "Epoch 21/50\n",
      "4000/4000 [==============================] - 3s 840us/sample - loss: 0.0077 - accuracy: 0.9987 - val_loss: 1.2995 - val_accuracy: 0.7580\n",
      "Epoch 22/50\n",
      "4000/4000 [==============================] - 3s 848us/sample - loss: 0.0091 - accuracy: 0.9977 - val_loss: 1.1540 - val_accuracy: 0.7610\n",
      "Epoch 23/50\n",
      "4000/4000 [==============================] - 3s 849us/sample - loss: 0.0067 - accuracy: 0.9987 - val_loss: 1.1962 - val_accuracy: 0.7580s: 0.0052 - accura\n",
      "Epoch 24/50\n",
      "4000/4000 [==============================] - 3s 852us/sample - loss: 0.0048 - accuracy: 0.9992 - val_loss: 1.4017 - val_accuracy: 0.7550\n",
      "Epoch 25/50\n",
      "4000/4000 [==============================] - 4s 876us/sample - loss: 0.0042 - accuracy: 0.9995 - val_loss: 1.3428 - val_accuracy: 0.7660\n",
      "Epoch 26/50\n",
      "4000/4000 [==============================] - 3s 858us/sample - loss: 0.0037 - accuracy: 0.9995 - val_loss: 1.3588 - val_accuracy: 0.7640\n",
      "Epoch 27/50\n",
      "4000/4000 [==============================] - 3s 836us/sample - loss: 0.0108 - accuracy: 0.9965 - val_loss: 1.3921 - val_accuracy: 0.7600\n",
      "Epoch 28/50\n",
      "4000/4000 [==============================] - 3s 854us/sample - loss: 0.0113 - accuracy: 0.9960 - val_loss: 1.3045 - val_accuracy: 0.7560\n",
      "Epoch 29/50\n",
      "4000/4000 [==============================] - 3s 842us/sample - loss: 0.0020 - accuracy: 1.0000 - val_loss: 1.3821 - val_accuracy: 0.7580\n",
      "Epoch 30/50\n",
      "4000/4000 [==============================] - 3s 841us/sample - loss: 6.6717e-04 - accuracy: 1.0000 - val_loss: 1.5061 - val_accuracy: 0.7440\n",
      "Epoch 31/50\n",
      "4000/4000 [==============================] - 3s 834us/sample - loss: 4.6431e-04 - accuracy: 1.0000 - val_loss: 1.5549 - val_accuracy: 0.7460\n",
      "Epoch 32/50\n",
      "4000/4000 [==============================] - 3s 819us/sample - loss: 3.6214e-04 - accuracy: 1.0000 - val_loss: 1.6026 - val_accuracy: 0.7480\n",
      "Epoch 33/50\n",
      "4000/4000 [==============================] - 3s 821us/sample - loss: 2.9480e-04 - accuracy: 1.0000 - val_loss: 1.6546 - val_accuracy: 0.7470\n",
      "Epoch 34/50\n",
      "4000/4000 [==============================] - 3s 820us/sample - loss: 2.4711e-04 - accuracy: 1.0000 - val_loss: 1.6908 - val_accuracy: 0.7460\n",
      "Epoch 35/50\n",
      "4000/4000 [==============================] - 3s 841us/sample - loss: 2.1050e-04 - accuracy: 1.0000 - val_loss: 1.7341 - val_accuracy: 0.7470\n",
      "Epoch 36/50\n",
      "4000/4000 [==============================] - 3s 827us/sample - loss: 1.8337e-04 - accuracy: 1.0000 - val_loss: 1.7644 - val_accuracy: 0.7470\n",
      "Epoch 37/50\n",
      "4000/4000 [==============================] - 3s 822us/sample - loss: 1.5992e-04 - accuracy: 1.0000 - val_loss: 1.7973 - val_accuracy: 0.7450\n",
      "Epoch 38/50\n",
      "4000/4000 [==============================] - 3s 835us/sample - loss: 1.4061e-04 - accuracy: 1.0000 - val_loss: 1.8305 - val_accuracy: 0.7460\n",
      "Epoch 39/50\n",
      "4000/4000 [==============================] - 3s 832us/sample - loss: 0.0583 - accuracy: 0.9795 - val_loss: 0.9965 - val_accuracy: 0.7400\n",
      "Epoch 40/50\n",
      "4000/4000 [==============================] - 3s 865us/sample - loss: 0.0156 - accuracy: 0.9952 - val_loss: 1.2930 - val_accuracy: 0.7420\n",
      "Epoch 41/50\n",
      "4000/4000 [==============================] - 3s 823us/sample - loss: 0.0158 - accuracy: 0.9952 - val_loss: 1.1991 - val_accuracy: 0.7520\n",
      "Epoch 42/50\n",
      "4000/4000 [==============================] - 3s 835us/sample - loss: 0.0026 - accuracy: 0.9998 - val_loss: 1.4151 - val_accuracy: 0.7510\n",
      "Epoch 43/50\n",
      "4000/4000 [==============================] - 3s 841us/sample - loss: 4.3088e-04 - accuracy: 1.0000 - val_loss: 1.5155 - val_accuracy: 0.7610\n",
      "Epoch 44/50\n",
      "4000/4000 [==============================] - 3s 836us/sample - loss: 2.2490e-04 - accuracy: 1.0000 - val_loss: 1.6178 - val_accuracy: 0.7620\n",
      "Epoch 45/50\n",
      "4000/4000 [==============================] - 3s 848us/sample - loss: 1.3940e-04 - accuracy: 1.0000 - val_loss: 1.6931 - val_accuracy: 0.7630\n",
      "Epoch 46/50\n",
      "4000/4000 [==============================] - 3s 870us/sample - loss: 1.0313e-04 - accuracy: 1.0000 - val_loss: 1.7365 - val_accuracy: 0.7640\n",
      "Epoch 47/50\n",
      "4000/4000 [==============================] - 3s 847us/sample - loss: 8.3122e-05 - accuracy: 1.0000 - val_loss: 1.7768 - val_accuracy: 0.7640\n",
      "Epoch 48/50\n",
      "4000/4000 [==============================] - 3s 821us/sample - loss: 6.9045e-05 - accuracy: 1.0000 - val_loss: 1.8120 - val_accuracy: 0.7640\n",
      "Epoch 49/50\n",
      "4000/4000 [==============================] - 3s 830us/sample - loss: 5.8707e-05 - accuracy: 1.0000 - val_loss: 1.8436 - val_accuracy: 0.7640\n",
      "Epoch 50/50\n",
      "4000/4000 [==============================] - 3s 823us/sample - loss: 5.0514e-05 - accuracy: 1.0000 - val_loss: 1.8722 - val_accuracy: 0.7640\n"
     ]
    }
   ],
   "source": [
    "num_epochs = 50\n",
    "history_lstm = model_lstm.fit(padded, training_labels_final, epochs=num_epochs, validation_data=(testing_padded, testing_labels_final))"
   ]
  },
  {
   "cell_type": "code",
   "execution_count": 15,
   "metadata": {},
   "outputs": [
    {
     "data": {
      "image/png": "[encoded data removed]",
      "text/plain": [
       "<Figure size 432x288 with 1 Axes>"
      ]
     },
     "metadata": {
      "needs_background": "light"
     },
     "output_type": "display_data"
    },
    {
     "data": {
      "image/png": "[encoded data removed]",
      "text/plain": [
       "<Figure size 432x288 with 1 Axes>"
      ]
     },
     "metadata": {
      "needs_background": "light"
     },
     "output_type": "display_data"
    }
   ],
   "source": [
    "plot_graphs(history_lstm,'accuracy')\n",
    "plot_graphs(history_lstm,'loss')"
   ]
  },
  {
   "cell_type": "code",
   "execution_count": 18,
   "metadata": {},
   "outputs": [],
   "source": [
    "model_lstm.save('LSTM神经网络.h5')"
   ]
  },
  {
   "cell_type": "markdown",
   "metadata": {},
   "source": [
    "卷积神经网络"
   ]
  },
  {
   "cell_type": "code",
   "execution_count": 16,
   "metadata": {},
   "outputs": [
    {
     "name": "stdout",
     "output_type": "stream",
     "text": [
      "Model: \"sequential_3\"\n",
      "_________________________________________________________________\n",
      "Layer (type)                 Output Shape              Param #   \n",
      "=================================================================\n",
      "embedding_3 (Embedding)      (None, 120, 16)           160000    \n",
      "_________________________________________________________________\n",
      "conv1d (Conv1D)              (None, 116, 128)          10368     \n",
      "_________________________________________________________________\n",
      "global_average_pooling1d (Gl (None, 128)               0         \n",
      "_________________________________________________________________\n",
      "dense_6 (Dense)              (None, 6)                 774       \n",
      "_________________________________________________________________\n",
      "dense_7 (Dense)              (None, 1)                 7         \n",
      "=================================================================\n",
      "Total params: 171,149\n",
      "Trainable params: 171,149\n",
      "Non-trainable params: 0\n",
      "_________________________________________________________________\n"
     ]
    }
   ],
   "source": [
    "# Model Definition with Conv1D\n",
    "model_conv = tf.keras.Sequential([\n",
    "    tf.keras.layers.Embedding(vocab_size, embedding_dim, input_length=max_length),\n",
    "    tf.keras.layers.Conv1D(128, 5, activation='relu'),\n",
    "    tf.keras.layers.GlobalAveragePooling1D(),\n",
    "    tf.keras.layers.Dense(6, activation='relu'),\n",
    "    tf.keras.layers.Dense(1, activation='sigmoid')\n",
    "])\n",
    "model_conv.compile(loss='binary_crossentropy',optimizer='adam',metrics=['accuracy'])\n",
    "model_conv.summary()\n"
   ]
  },
  {
   "cell_type": "code",
   "execution_count": 17,
   "metadata": {},
   "outputs": [
    {
     "name": "stdout",
     "output_type": "stream",
     "text": [
      "Train on 4000 samples, validate on 1000 samples\n",
      "Epoch 1/50\n",
      "4000/4000 [==============================] - 2s 559us/sample - loss: 0.6702 - accuracy: 0.5803 - val_loss: 0.5792 - val_accuracy: 0.7210\n",
      "Epoch 2/50\n",
      "4000/4000 [==============================] - 1s 250us/sample - loss: 0.3713 - accuracy: 0.8520 - val_loss: 0.4258 - val_accuracy: 0.8160\n",
      "Epoch 3/50\n",
      "4000/4000 [==============================] - 1s 256us/sample - loss: 0.1728 - accuracy: 0.9427 - val_loss: 0.4677 - val_accuracy: 0.8030\n",
      "Epoch 4/50\n",
      "4000/4000 [==============================] - 1s 268us/sample - loss: 0.0775 - accuracy: 0.9810 - val_loss: 0.5817 - val_accuracy: 0.7970\n",
      "Epoch 5/50\n",
      "4000/4000 [==============================] - 1s 274us/sample - loss: 0.0351 - accuracy: 0.9940 - val_loss: 0.6558 - val_accuracy: 0.7950\n",
      "Epoch 6/50\n",
      "4000/4000 [==============================] - 1s 249us/sample - loss: 0.0117 - accuracy: 0.9995 - val_loss: 0.7172 - val_accuracy: 0.7920\n",
      "Epoch 7/50\n",
      "4000/4000 [==============================] - 1s 257us/sample - loss: 0.0049 - accuracy: 1.0000 - val_loss: 0.7706 - val_accuracy: 0.7950\n",
      "Epoch 8/50\n",
      "4000/4000 [==============================] - 1s 272us/sample - loss: 0.0030 - accuracy: 1.0000 - val_loss: 0.8159 - val_accuracy: 0.7900\n",
      "Epoch 9/50\n",
      "4000/4000 [==============================] - 1s 266us/sample - loss: 0.0020 - accuracy: 1.0000 - val_loss: 0.8550 - val_accuracy: 0.7910\n",
      "Epoch 10/50\n",
      "4000/4000 [==============================] - 1s 270us/sample - loss: 0.0014 - accuracy: 1.0000 - val_loss: 0.8902 - val_accuracy: 0.7910\n",
      "Epoch 11/50\n",
      "4000/4000 [==============================] - 1s 260us/sample - loss: 0.0011 - accuracy: 1.0000 - val_loss: 0.9211 - val_accuracy: 0.7950\n",
      "Epoch 12/50\n",
      "4000/4000 [==============================] - 1s 249us/sample - loss: 8.2926e-04 - accuracy: 1.0000 - val_loss: 0.9496 - val_accuracy: 0.7920\n",
      "Epoch 13/50\n",
      "4000/4000 [==============================] - 1s 263us/sample - loss: 6.5714e-04 - accuracy: 1.0000 - val_loss: 0.9755 - val_accuracy: 0.7900\n",
      "Epoch 14/50\n",
      "4000/4000 [==============================] - 1s 264us/sample - loss: 5.3031e-04 - accuracy: 1.0000 - val_loss: 1.0000 - val_accuracy: 0.7890\n",
      "Epoch 15/50\n",
      "4000/4000 [==============================] - 1s 327us/sample - loss: 4.3485e-04 - accuracy: 1.0000 - val_loss: 1.0233 - val_accuracy: 0.7890\n",
      "Epoch 16/50\n",
      "4000/4000 [==============================] - 1s 261us/sample - loss: 3.5947e-04 - accuracy: 1.0000 - val_loss: 1.0447 - val_accuracy: 0.7890\n",
      "Epoch 17/50\n",
      "4000/4000 [==============================] - 1s 250us/sample - loss: 3.0341e-04 - accuracy: 1.0000 - val_loss: 1.0650 - val_accuracy: 0.7880\n",
      "Epoch 18/50\n",
      "4000/4000 [==============================] - 1s 273us/sample - loss: 2.5753e-04 - accuracy: 1.0000 - val_loss: 1.0843 - val_accuracy: 0.7890\n",
      "Epoch 19/50\n",
      "4000/4000 [==============================] - 1s 251us/sample - loss: 2.1990e-04 - accuracy: 1.0000 - val_loss: 1.1029 - val_accuracy: 0.7890\n",
      "Epoch 20/50\n",
      "4000/4000 [==============================] - 1s 257us/sample - loss: 1.9000e-04 - accuracy: 1.0000 - val_loss: 1.1207 - val_accuracy: 0.7910\n",
      "Epoch 21/50\n",
      "4000/4000 [==============================] - 1s 255us/sample - loss: 1.6400e-04 - accuracy: 1.0000 - val_loss: 1.1378 - val_accuracy: 0.7900\n",
      "Epoch 22/50\n",
      "4000/4000 [==============================] - 1s 255us/sample - loss: 1.4299e-04 - accuracy: 1.0000 - val_loss: 1.1546 - val_accuracy: 0.7870\n",
      "Epoch 23/50\n",
      "4000/4000 [==============================] - 1s 248us/sample - loss: 1.2518e-04 - accuracy: 1.0000 - val_loss: 1.1703 - val_accuracy: 0.7880\n",
      "Epoch 24/50\n",
      "4000/4000 [==============================] - 1s 255us/sample - loss: 1.1043e-04 - accuracy: 1.0000 - val_loss: 1.1862 - val_accuracy: 0.7870\n",
      "Epoch 25/50\n",
      "4000/4000 [==============================] - 1s 253us/sample - loss: 9.7431e-05 - accuracy: 1.0000 - val_loss: 1.2011 - val_accuracy: 0.7860\n",
      "Epoch 26/50\n",
      "4000/4000 [==============================] - 1s 249us/sample - loss: 8.6410e-05 - accuracy: 1.0000 - val_loss: 1.2161 - val_accuracy: 0.7880\n",
      "Epoch 27/50\n",
      "4000/4000 [==============================] - 1s 249us/sample - loss: 7.6836e-05 - accuracy: 1.0000 - val_loss: 1.2305 - val_accuracy: 0.7860\n",
      "Epoch 28/50\n",
      "4000/4000 [==============================] - 1s 253us/sample - loss: 6.8469e-05 - accuracy: 1.0000 - val_loss: 1.2445 - val_accuracy: 0.7860\n",
      "Epoch 29/50\n",
      "4000/4000 [==============================] - 1s 259us/sample - loss: 6.1231e-05 - accuracy: 1.0000 - val_loss: 1.2579 - val_accuracy: 0.7860\n",
      "Epoch 30/50\n",
      "4000/4000 [==============================] - 1s 264us/sample - loss: 5.4932e-05 - accuracy: 1.0000 - val_loss: 1.2713 - val_accuracy: 0.7850\n",
      "Epoch 31/50\n",
      "4000/4000 [==============================] - 1s 257us/sample - loss: 4.9413e-05 - accuracy: 1.0000 - val_loss: 1.2847 - val_accuracy: 0.7850\n",
      "Epoch 32/50\n",
      "4000/4000 [==============================] - 1s 262us/sample - loss: 4.4349e-05 - accuracy: 1.0000 - val_loss: 1.2976 - val_accuracy: 0.7850\n",
      "Epoch 33/50\n",
      "4000/4000 [==============================] - 1s 274us/sample - loss: 4.0004e-05 - accuracy: 1.0000 - val_loss: 1.3102 - val_accuracy: 0.7850\n",
      "Epoch 34/50\n",
      "4000/4000 [==============================] - 1s 262us/sample - loss: 3.6293e-05 - accuracy: 1.0000 - val_loss: 1.3230 - val_accuracy: 0.7840\n",
      "Epoch 35/50\n",
      "4000/4000 [==============================] - 1s 251us/sample - loss: 3.2839e-05 - accuracy: 1.0000 - val_loss: 1.3355 - val_accuracy: 0.7870\n",
      "Epoch 36/50\n",
      "4000/4000 [==============================] - 1s 250us/sample - loss: 2.9646e-05 - accuracy: 1.0000 - val_loss: 1.3472 - val_accuracy: 0.7830\n",
      "Epoch 37/50\n",
      "4000/4000 [==============================] - 1s 264us/sample - loss: 2.6993e-05 - accuracy: 1.0000 - val_loss: 1.3592 - val_accuracy: 0.7840\n",
      "Epoch 38/50\n",
      "4000/4000 [==============================] - 1s 264us/sample - loss: 2.4459e-05 - accuracy: 1.0000 - val_loss: 1.3714 - val_accuracy: 0.7870\n",
      "Epoch 39/50\n",
      "4000/4000 [==============================] - 1s 271us/sample - loss: 2.2340e-05 - accuracy: 1.0000 - val_loss: 1.3824 - val_accuracy: 0.7830\n",
      "Epoch 40/50\n",
      "4000/4000 [==============================] - 1s 291us/sample - loss: 2.0399e-05 - accuracy: 1.0000 - val_loss: 1.3937 - val_accuracy: 0.7830\n",
      "Epoch 41/50\n",
      "4000/4000 [==============================] - 1s 265us/sample - loss: 1.8566e-05 - accuracy: 1.0000 - val_loss: 1.4055 - val_accuracy: 0.7870\n",
      "Epoch 42/50\n",
      "4000/4000 [==============================] - 1s 258us/sample - loss: 1.7033e-05 - accuracy: 1.0000 - val_loss: 1.4163 - val_accuracy: 0.7830\n",
      "Epoch 43/50\n",
      "4000/4000 [==============================] - 1s 265us/sample - loss: 1.5548e-05 - accuracy: 1.0000 - val_loss: 1.4277 - val_accuracy: 0.7850\n",
      "Epoch 44/50\n",
      "4000/4000 [==============================] - 1s 276us/sample - loss: 1.4222e-05 - accuracy: 1.0000 - val_loss: 1.4387 - val_accuracy: 0.7860\n",
      "Epoch 45/50\n",
      "4000/4000 [==============================] - 1s 264us/sample - loss: 1.2995e-05 - accuracy: 1.0000 - val_loss: 1.4496 - val_accuracy: 0.7850\n",
      "Epoch 46/50\n",
      "4000/4000 [==============================] - 1s 255us/sample - loss: 1.1942e-05 - accuracy: 1.0000 - val_loss: 1.4602 - val_accuracy: 0.7830\n",
      "Epoch 47/50\n",
      "4000/4000 [==============================] - 1s 259us/sample - loss: 1.0940e-05 - accuracy: 1.0000 - val_loss: 1.4711 - val_accuracy: 0.7840\n",
      "Epoch 48/50\n",
      "4000/4000 [==============================] - 1s 255us/sample - loss: 1.0069e-05 - accuracy: 1.0000 - val_loss: 1.4815 - val_accuracy: 0.7830\n",
      "Epoch 49/50\n",
      "4000/4000 [==============================] - 1s 258us/sample - loss: 9.2535e-06 - accuracy: 1.0000 - val_loss: 1.4921 - val_accuracy: 0.7820\n",
      "Epoch 50/50\n",
      "4000/4000 [==============================] - 1s 258us/sample - loss: 8.4943e-06 - accuracy: 1.0000 - val_loss: 1.5024 - val_accuracy: 0.7830\n"
     ]
    }
   ],
   "source": [
    "num_epochs = 50\n",
    "history_conv = model_conv.fit(padded, training_labels_final, epochs=num_epochs, validation_data=(testing_padded, testing_labels_final))"
   ]
  },
  {
   "cell_type": "code",
   "execution_count": 19,
   "metadata": {},
   "outputs": [
    {
     "data": {
      "image/png": "[encoded data removed]",
      "text/plain": [
       "<Figure size 432x288 with 1 Axes>"
      ]
     },
     "metadata": {
      "needs_background": "light"
     },
     "output_type": "display_data"
    },
    {
     "data": {
      "image/png": "[encoded data removed]",
      "text/plain": [
       "<Figure size 432x288 with 1 Axes>"
      ]
     },
     "metadata": {
      "needs_background": "light"
     },
     "output_type": "display_data"
    }
   ],
   "source": [
    "plot_graphs(history_conv,'accuracy')\n",
    "plot_graphs(history_conv,'loss')"
   ]
  },
  {
   "cell_type": "code",
   "execution_count": 20,
   "metadata": {},
   "outputs": [],
   "source": [
    "model_conv.save('卷积神经网络.h5')"
   ]
  }
 ],
 "metadata": {
  "interpreter": {
   "hash": "23b34fee034e6c6559cf1b732e166f57ae608166b2226a83e90a4ecbc0876e39"
  },
  "kernelspec": {
   "display_name": "Python 3.7.13",
   "language": "python",
   "name": "python3"
  },
  "language_info": {
   "codemirror_mode": {
    "name": "ipython",
    "version": 3
   },
   "file_extension": ".py",
   "mimetype": "text/x-python",
   "name": "python",
   "nbconvert_exporter": "python",
   "pygments_lexer": "ipython3",
   "version": "3.7.13"
  },
  "orig_nbformat": 4
 },
 "nbformat": 4,
 "nbformat_minor": 2
}
