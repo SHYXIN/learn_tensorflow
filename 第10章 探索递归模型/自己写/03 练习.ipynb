{
 "cells": [
  {
   "cell_type": "code",
   "execution_count": 4,
   "metadata": {},
   "outputs": [
    {
     "name": "stdout",
     "output_type": "stream",
     "text": [
      "1600000\n",
      "1600000\n",
      "[\"@switchfoot http://twitpic.com/2y1zl - Awww, that's a bummer.  You shoulda got David Carr of Third Day to do it. ;D\", 0]\n"
     ]
    }
   ],
   "source": [
    "import csv\n",
    "\n",
    "corpus = []\n",
    "num_sentences = 0\n",
    "\n",
    "with open('../tmp/training_cleaned.csv') as f:\n",
    "    reader = csv.reader(f,delimiter=',')\n",
    "    for row in reader:\n",
    "        num_sentences +=1\n",
    "        corpus.append([row[5],0 if row[0]=='0' else 1])\n",
    "print(num_sentences)\n",
    "print(len(corpus))\n",
    "print(corpus[0])"
   ]
  },
  {
   "cell_type": "code",
   "execution_count": 5,
   "metadata": {},
   "outputs": [],
   "source": [
    "import random\n",
    "\n",
    "sentences=[]\n",
    "labels=[]\n",
    "training_size = 160000\n",
    "\n",
    "random.shuffle(corpus)\n",
    "\n",
    "for  x in range(training_size):\n",
    "    sentences.append(corpus[x][0])\n",
    "    labels.append(corpus[x][1])\n",
    "    "
   ]
  },
  {
   "cell_type": "code",
   "execution_count": 11,
   "metadata": {},
   "outputs": [],
   "source": [
    "import tensorflow as tf\n",
    "from tensorflow.keras.preprocessing.text import Tokenizer\n",
    "from tensorflow.keras.preprocessing.sequence import pad_sequences\n",
    "\n",
    "\n",
    "tokenizer = Tokenizer()\n",
    "tokenizer.fit_on_texts(sentences)\n",
    "\n",
    "word_index = tokenizer.word_index\n",
    "vocab_size =len(word_index)\n",
    "\n",
    "max_length = 16\n",
    "trunc_type = 'post'\n",
    "padding_type = 'post'\n",
    "ovv_tok ='<OOV>'\n",
    "\n",
    "\n",
    "\n",
    "sequences = tokenizer.texts_to_sequences(sentences)\n",
    "padded = pad_sequences(sequences,maxlen=max_length,padding=padding_type,truncating=trunc_type)\n"
   ]
  },
  {
   "cell_type": "code",
   "execution_count": 10,
   "metadata": {},
   "outputs": [
    {
     "name": "stdout",
     "output_type": "stream",
     "text": [
      "\u001b[1;31mSignature:\u001b[0m\n",
      "\u001b[0mpad_sequences\u001b[0m\u001b[1;33m(\u001b[0m\u001b[1;33m\n",
      "\u001b[0m    \u001b[0msequences\u001b[0m\u001b[1;33m,\u001b[0m\u001b[1;33m\n",
      "\u001b[0m    \u001b[0mmaxlen\u001b[0m\u001b[1;33m=\u001b[0m\u001b[1;32mNone\u001b[0m\u001b[1;33m,\u001b[0m\u001b[1;33m\n",
      "\u001b[0m    \u001b[0mdtype\u001b[0m\u001b[1;33m=\u001b[0m\u001b[1;34m'int32'\u001b[0m\u001b[1;33m,\u001b[0m\u001b[1;33m\n",
      "\u001b[0m    \u001b[0mpadding\u001b[0m\u001b[1;33m=\u001b[0m\u001b[1;34m'pre'\u001b[0m\u001b[1;33m,\u001b[0m\u001b[1;33m\n",
      "\u001b[0m    \u001b[0mtruncating\u001b[0m\u001b[1;33m=\u001b[0m\u001b[1;34m'pre'\u001b[0m\u001b[1;33m,\u001b[0m\u001b[1;33m\n",
      "\u001b[0m    \u001b[0mvalue\u001b[0m\u001b[1;33m=\u001b[0m\u001b[1;36m0.0\u001b[0m\u001b[1;33m,\u001b[0m\u001b[1;33m\n",
      "\u001b[0m\u001b[1;33m)\u001b[0m\u001b[1;33m\u001b[0m\u001b[1;33m\u001b[0m\u001b[0m\n",
      "\u001b[1;31mDocstring:\u001b[0m\n",
      "Pads sequences to the same length.\n",
      "\n",
      "This function transforms a list of\n",
      "`num_samples` sequences (lists of integers)\n",
      "into a 2D Numpy array of shape `(num_samples, num_timesteps)`.\n",
      "`num_timesteps` is either the `maxlen` argument if provided,\n",
      "or the length of the longest sequence otherwise.\n",
      "\n",
      "Sequences that are shorter than `num_timesteps`\n",
      "are padded with `value` at the beginning or the end\n",
      "if padding='post.\n",
      "\n",
      "Sequences longer than `num_timesteps` are truncated\n",
      "so that they fit the desired length.\n",
      "The position where padding or truncation happens is determined by\n",
      "the arguments `padding` and `truncating`, respectively.\n",
      "\n",
      "Pre-padding is the default.\n",
      "\n",
      "# Arguments\n",
      "    sequences: List of lists, where each element is a sequence.\n",
      "    maxlen: Int, maximum length of all sequences.\n",
      "    dtype: Type of the output sequences.\n",
      "        To pad sequences with variable length strings, you can use `object`.\n",
      "    padding: String, 'pre' or 'post':\n",
      "        pad either before or after each sequence.\n",
      "    truncating: String, 'pre' or 'post':\n",
      "        remove values from sequences larger than\n",
      "        `maxlen`, either at the beginning or at the end of the sequences.\n",
      "    value: Float or String, padding value.\n",
      "\n",
      "# Returns\n",
      "    x: Numpy array with shape `(len(sequences), maxlen)`\n",
      "\n",
      "# Raises\n",
      "    ValueError: In case of invalid values for `truncating` or `padding`,\n",
      "        or in case of invalid shape for a `sequences` entry.\n",
      "\u001b[1;31mFile:\u001b[0m      c:\\users\\wx847\\anaconda3\\envs\\learn_tensorflow\\lib\\site-packages\\keras_preprocessing\\sequence.py\n",
      "\u001b[1;31mType:\u001b[0m      function\n"
     ]
    }
   ],
   "source": [
    "?pad_sequences"
   ]
  },
  {
   "cell_type": "markdown",
   "metadata": {},
   "source": [
    "切分数据集"
   ]
  },
  {
   "cell_type": "code",
   "execution_count": 14,
   "metadata": {},
   "outputs": [],
   "source": [
    "test_portion = 0.1 # 百分之10作为测试集\n",
    "split_num = int(test_portion * training_size)\n",
    "\n",
    "test_sequences,training_sequences = padded[0:split_num],padded[split_num:training_size]\n",
    "test_labels,train_labels=labels[:split_num],labels[split_num:training_size]"
   ]
  },
  {
   "cell_type": "code",
   "execution_count": 15,
   "metadata": {},
   "outputs": [
    {
     "name": "stdout",
     "output_type": "stream",
     "text": [
      "138932\n",
      "1\n"
     ]
    }
   ],
   "source": [
    "print(vocab_size)\n",
    "print(word_index['i'])"
   ]
  }
 ],
 "metadata": {
  "interpreter": {
   "hash": "23b34fee034e6c6559cf1b732e166f57ae608166b2226a83e90a4ecbc0876e39"
  },
  "kernelspec": {
   "display_name": "Python 3.7.13",
   "language": "python",
   "name": "python3"
  },
  "language_info": {
   "codemirror_mode": {
    "name": "ipython",
    "version": 3
   },
   "file_extension": ".py",
   "mimetype": "text/x-python",
   "name": "python",
   "nbconvert_exporter": "python",
   "pygments_lexer": "ipython3",
   "version": "3.7.13"
  },
  "orig_nbformat": 4
 },
 "nbformat": 4,
 "nbformat_minor": 2
}
