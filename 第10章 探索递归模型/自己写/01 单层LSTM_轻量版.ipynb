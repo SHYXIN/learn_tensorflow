{
 "cells": [
  {
   "cell_type": "code",
   "execution_count": 14,
   "metadata": {},
   "outputs": [
    {
     "name": "stdout",
     "output_type": "stream",
     "text": [
      "2.1.0\n",
      "4.5.2\n"
     ]
    }
   ],
   "source": [
    "import tensorflow_datasets as tfds\n",
    "import tensorflow as tf\n",
    "\n",
    "print(tf.__version__)\n",
    "print(tfds.__version__)"
   ]
  },
  {
   "cell_type": "code",
   "execution_count": 15,
   "metadata": {},
   "outputs": [
    {
     "name": "stderr",
     "output_type": "stream",
     "text": [
      "WARNING:absl:TFDS datasets with text encoding are deprecated and will be removed in a future version. Instead, you should use the plain text version and tokenize the text using `tensorflow_text` (See: https://www.tensorflow.org/tutorials/tensorflow_text/intro#tfdata_example)\n"
     ]
    }
   ],
   "source": [
    "dataset, info =tfds.load('imdb_reviews/subwords8k', with_info=True, as_supervised=True)\n",
    "train_dataset, test_dataset=dataset['train'].take(4000),dataset['test'].take(1000)"
   ]
  },
  {
   "cell_type": "code",
   "execution_count": 16,
   "metadata": {},
   "outputs": [
    {
     "name": "stdout",
     "output_type": "stream",
     "text": [
      "tfds.core.DatasetInfo(\n",
      "    name='imdb_reviews',\n",
      "    full_name='imdb_reviews/subwords8k/1.0.0',\n",
      "    description=\"\"\"\n",
      "    Large Movie Review Dataset.\n",
      "    This is a dataset for binary sentiment classification containing substantially more data than previous benchmark datasets. We provide a set of 25,000 highly polar movie reviews for training, and 25,000 for testing. There is additional unlabeled data for use as well.\n",
      "    \"\"\",\n",
      "    config_description=\"\"\"\n",
      "    Uses `tfds.deprecated.text.SubwordTextEncoder` with 8k vocab size\n",
      "    \"\"\",\n",
      "    homepage='http://ai.stanford.edu/~amaas/data/sentiment/',\n",
      "    data_path='C:\\\\Users\\\\WX847\\\\tensorflow_datasets\\\\imdb_reviews\\\\subwords8k\\\\1.0.0',\n",
      "    download_size=80.23 MiB,\n",
      "    dataset_size=54.72 MiB,\n",
      "    features=FeaturesDict({\n",
      "        'label': ClassLabel(shape=(), dtype=tf.int64, num_classes=2),\n",
      "        'text': Text(shape=(None,), dtype=tf.int64, encoder=<SubwordTextEncoder vocab_size=8185>),\n",
      "    }),\n",
      "    supervised_keys=('text', 'label'),\n",
      "    disable_shuffling=False,\n",
      "    splits={\n",
      "        'test': <SplitInfo num_examples=25000, num_shards=1>,\n",
      "        'train': <SplitInfo num_examples=25000, num_shards=1>,\n",
      "        'unsupervised': <SplitInfo num_examples=50000, num_shards=1>,\n",
      "    },\n",
      "    citation=\"\"\"@InProceedings{maas-EtAl:2011:ACL-HLT2011,\n",
      "      author    = {Maas, Andrew L.  and  Daly, Raymond E.  and  Pham, Peter T.  and  Huang, Dan  and  Ng, Andrew Y.  and  Potts, Christopher},\n",
      "      title     = {Learning Word Vectors for Sentiment Analysis},\n",
      "      booktitle = {Proceedings of the 49th Annual Meeting of the Association for Computational Linguistics: Human Language Technologies},\n",
      "      month     = {June},\n",
      "      year      = {2011},\n",
      "      address   = {Portland, Oregon, USA},\n",
      "      publisher = {Association for Computational Linguistics},\n",
      "      pages     = {142--150},\n",
      "      url       = {http://www.aclweb.org/anthology/P11-1015}\n",
      "    }\"\"\",\n",
      ")\n"
     ]
    }
   ],
   "source": [
    "tokenizer = info.features['text'].encoder\n",
    "print(info)"
   ]
  },
  {
   "cell_type": "markdown",
   "metadata": {},
   "source": [
    "产生数据"
   ]
  },
  {
   "cell_type": "code",
   "execution_count": 17,
   "metadata": {},
   "outputs": [],
   "source": [
    "BUFFER_SIZE = 100\n",
    "BATCH_SIZE = 100\n",
    "padded_shapes = ([None],()) \n",
    "\n",
    "train_dataset = train_dataset.shuffle(BUFFER_SIZE).take(1000)\n",
    "train_dataset = train_dataset.padded_batch(BATCH_SIZE,padded_shapes=padded_shapes)\n",
    "test_dataset = test_dataset.padded_batch(BATCH_SIZE,padded_shapes=padded_shapes).take(1000)"
   ]
  },
  {
   "cell_type": "code",
   "execution_count": 18,
   "metadata": {},
   "outputs": [],
   "source": [
    "vocab_size = 1000\n",
    "\n",
    "model = tf.keras.Sequential([\n",
    "    tf.keras.layers.Embedding(tokenizer.vocab_size, 8),\n",
    "    # Bidirectionnal 双向的cell_state，即可以联系上下文，不只是前文影响后文\n",
    "    # LSTM实现LSTM，8为输出维度\n",
    "    # return_sequences 当有两个LSTM连接时，需要设置前一个LSTM，这个属性\n",
    "    tf.keras.layers.Bidirectional(tf.keras.layers.LSTM(8,return_sequences=True)),  \n",
    "    tf.keras.layers.Bidirectional(tf.keras.layers.LSTM(8)),\n",
    "    tf.keras.layers.Dense(16,activation='relu'),\n",
    "    tf.keras.layers.Dense(1,activation='sigmoid'),\n",
    "])"
   ]
  },
  {
   "cell_type": "code",
   "execution_count": 19,
   "metadata": {},
   "outputs": [
    {
     "name": "stdout",
     "output_type": "stream",
     "text": [
      "Model: \"sequential_2\"\n",
      "_________________________________________________________________\n",
      "Layer (type)                 Output Shape              Param #   \n",
      "=================================================================\n",
      "embedding_2 (Embedding)      (None, None, 8)           65480     \n",
      "_________________________________________________________________\n",
      "bidirectional_4 (Bidirection (None, None, 16)          1088      \n",
      "_________________________________________________________________\n",
      "bidirectional_5 (Bidirection (None, 16)                1600      \n",
      "_________________________________________________________________\n",
      "dense_4 (Dense)              (None, 16)                272       \n",
      "_________________________________________________________________\n",
      "dense_5 (Dense)              (None, 1)                 17        \n",
      "=================================================================\n",
      "Total params: 68,457\n",
      "Trainable params: 68,457\n",
      "Non-trainable params: 0\n",
      "_________________________________________________________________\n"
     ]
    }
   ],
   "source": [
    "model.summary()"
   ]
  },
  {
   "cell_type": "code",
   "execution_count": 21,
   "metadata": {},
   "outputs": [],
   "source": [
    "model.compile(loss='binary_crossentropy', optimizer='adam', metrics=['accuracy'])"
   ]
  },
  {
   "cell_type": "code",
   "execution_count": 23,
   "metadata": {},
   "outputs": [
    {
     "name": "stdout",
     "output_type": "stream",
     "text": [
      "Epoch 1/10\n",
      "10/10 [==============================] - 13s 1s/step - loss: 0.6931 - accuracy: 0.5000 - val_loss: 0.6933 - val_accuracy: 0.4970\n",
      "Epoch 2/10\n",
      "10/10 [==============================] - 6s 600ms/step - loss: 0.6921 - accuracy: 0.5090 - val_loss: 0.6936 - val_accuracy: 0.4970\n",
      "Epoch 3/10\n",
      "10/10 [==============================] - 6s 584ms/step - loss: 0.6904 - accuracy: 0.5070 - val_loss: 0.6933 - val_accuracy: 0.4970\n",
      "Epoch 4/10\n",
      "10/10 [==============================] - 6s 589ms/step - loss: 0.6852 - accuracy: 0.5230 - val_loss: 0.6917 - val_accuracy: 0.5090\n",
      "Epoch 5/10\n",
      "10/10 [==============================] - 6s 589ms/step - loss: 0.6712 - accuracy: 0.6210 - val_loss: 0.6878 - val_accuracy: 0.5320\n",
      "Epoch 6/10\n",
      "10/10 [==============================] - 6s 579ms/step - loss: 0.6206 - accuracy: 0.7780 - val_loss: 0.6682 - val_accuracy: 0.5970\n",
      "Epoch 7/10\n",
      "10/10 [==============================] - 6s 595ms/step - loss: 0.5004 - accuracy: 0.9070 - val_loss: 0.6326 - val_accuracy: 0.6550\n",
      "Epoch 8/10\n",
      "10/10 [==============================] - 6s 595ms/step - loss: 0.3557 - accuracy: 0.9460 - val_loss: 0.6525 - val_accuracy: 0.6620\n",
      "Epoch 9/10\n",
      "10/10 [==============================] - 6s 589ms/step - loss: 0.2383 - accuracy: 0.9750 - val_loss: 0.6567 - val_accuracy: 0.6650\n",
      "Epoch 10/10\n",
      "10/10 [==============================] - 6s 591ms/step - loss: 0.1511 - accuracy: 0.9860 - val_loss: 0.7631 - val_accuracy: 0.6640\n"
     ]
    }
   ],
   "source": [
    "NUM_EPOCHS=10\n",
    "history = model.fit(train_dataset, epochs=NUM_EPOCHS,validation_data=test_dataset)"
   ]
  },
  {
   "cell_type": "code",
   "execution_count": 28,
   "metadata": {},
   "outputs": [],
   "source": [
    "import matplotlib.pyplot as plt\n",
    "\n",
    "def plot_graphs(history,key):\n",
    "    plt.plot(history.history[key])\n",
    "    plt.plot(history.history['val_'+key])\n",
    "    plt.xlabel('Epochs')\n",
    "    plt.ylabel(key)\n",
    "    plt.legend([key,'val'+key])\n",
    "    plt.show()\n"
   ]
  },
  {
   "cell_type": "code",
   "execution_count": 29,
   "metadata": {},
   "outputs": [
    {
     "data": {
      "image/png": "[encoded data removed]",
      "text/plain": [
       "<Figure size 432x288 with 1 Axes>"
      ]
     },
     "metadata": {
      "needs_background": "light"
     },
     "output_type": "display_data"
    }
   ],
   "source": [
    "plot_graphs(history,'accuracy')"
   ]
  },
  {
   "cell_type": "code",
   "execution_count": 30,
   "metadata": {},
   "outputs": [
    {
     "data": {
      "image/png": "[encoded data removed]",
      "text/plain": [
       "<Figure size 432x288 with 1 Axes>"
      ]
     },
     "metadata": {
      "needs_background": "light"
     },
     "output_type": "display_data"
    }
   ],
   "source": [
    "plot_graphs(history,'loss')"
   ]
  }
 ],
 "metadata": {
  "interpreter": {
   "hash": "23b34fee034e6c6559cf1b732e166f57ae608166b2226a83e90a4ecbc0876e39"
  },
  "kernelspec": {
   "display_name": "Python 3.7.13",
   "language": "python",
   "name": "python3"
  },
  "language_info": {
   "codemirror_mode": {
    "name": "ipython",
    "version": 3
   },
   "file_extension": ".py",
   "mimetype": "text/x-python",
   "name": "python",
   "nbconvert_exporter": "python",
   "pygments_lexer": "ipython3",
   "version": "3.7.13"
  },
  "orig_nbformat": 4
 },
 "nbformat": 4,
 "nbformat_minor": 2
}
