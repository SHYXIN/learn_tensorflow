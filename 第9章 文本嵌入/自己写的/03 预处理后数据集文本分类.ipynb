{
 "cells": [
  {
   "cell_type": "markdown",
   "metadata": {},
   "source": [
    "使用大佬预先处理好的数据，然后进行文本分类"
   ]
  },
  {
   "cell_type": "code",
   "execution_count": 2,
   "metadata": {},
   "outputs": [
    {
     "name": "stderr",
     "output_type": "stream",
     "text": [
      "WARNING:absl:TFDS datasets with text encoding are deprecated and will be removed in a future version. Instead, you should use the plain text version and tokenize the text using `tensorflow_text` (See: https://www.tensorflow.org/tutorials/tensorflow_text/intro#tfdata_example)\n"
     ]
    },
    {
     "name": "stdout",
     "output_type": "stream",
     "text": [
      "\u001b[1mDownloading and preparing dataset Unknown size (download: Unknown size, generated: Unknown size, total: Unknown size) to C:\\Users\\WX847\\tensorflow_datasets\\imdb_reviews\\subwords8k\\1.0.0...\u001b[0m\n"
     ]
    },
    {
     "name": "stderr",
     "output_type": "stream",
     "text": [
      "Dl Size...: 100%|██████████| 84125825/84125825 [00:00<00:00, 7688520783.14 MiB/s]\n",
      "Dl Completed...: 100%|██████████| 1/1 [00:00<00:00, 71.77 url/s] \n",
      "WARNING:absl:Dataset is using deprecated text encoder API which will be removed soon. Please use the plain_text version of the dataset and migrate to `tensorflow_text`.\n"
     ]
    },
    {
     "name": "stdout",
     "output_type": "stream",
     "text": [
      "\u001b[1mDataset imdb_reviews downloaded and prepared to C:\\Users\\WX847\\tensorflow_datasets\\imdb_reviews\\subwords8k\\1.0.0. Subsequent calls will reuse this data.\u001b[0m\n"
     ]
    }
   ],
   "source": [
    "import tensorflow_datasets as tfds\n",
    "\n",
    "imdb,info =tfds.load('imdb_reviews/subwords8k', with_info=True, as_supervised=True)\n",
    "\n"
   ]
  },
  {
   "cell_type": "markdown",
   "metadata": {},
   "source": [
    "如上显示\n",
    "\n",
    "TFDS datasets with text encoding are deprecated and will be removed in a future version. Instead, you should use the plain text version and tokenize the text using `tensorflow_text`\n",
    "\n",
    "弃用TFDS与文本编码的数据集,在未来的版本将被删除。相反,你应该使用纯文本版本,在标记文本使用“tensorflow_text”\n"
   ]
  },
  {
   "cell_type": "code",
   "execution_count": 6,
   "metadata": {},
   "outputs": [],
   "source": [
    "train_data,test_data = imdb['train'],imdb['test']"
   ]
  },
  {
   "cell_type": "code",
   "execution_count": 7,
   "metadata": {},
   "outputs": [],
   "source": [
    "tokenizer =info.features['text'].encoder"
   ]
  },
  {
   "cell_type": "code",
   "execution_count": 8,
   "metadata": {},
   "outputs": [
    {
     "name": "stdout",
     "output_type": "stream",
     "text": [
      "\u001b[1;31mType:\u001b[0m           SubwordTextEncoder\n",
      "\u001b[1;31mString form:\u001b[0m    <SubwordTextEncoder vocab_size=8185>\n",
      "\u001b[1;31mFile:\u001b[0m           c:\\users\\wx847\\anaconda3\\envs\\learn_tensorflow\\lib\\site-packages\\tensorflow_datasets\\core\\deprecated\\text\\subword_text_encoder.py\n",
      "\u001b[1;31mDocstring:\u001b[0m     \n",
      "Invertible `TextEncoder` using word pieces with a byte-level fallback.\n",
      "\n",
      "Encoding is fully invertible because all out-of-vocab wordpieces are\n",
      "byte-encoded.\n",
      "\n",
      "The vocabulary is \"trained\" on a corpus and all wordpieces are stored in a\n",
      "vocabulary file. To generate a vocabulary from a corpus, use\n",
      "`tfds.deprecated.text.SubwordTextEncoder.build_from_corpus`.\n",
      "\n",
      "Typical usage:\n",
      "\n",
      "```\n",
      "# Build\n",
      "encoder = tfds.deprecated.text.SubwordTextEncoder.build_from_corpus(\n",
      "    corpus_generator, target_vocab_size=2**15)\n",
      "encoder.save_to_file(vocab_fname)\n",
      "\n",
      "# Load\n",
      "encoder = tfds.deprecated.text.SubwordTextEncoder.load_from_file(vocab_fname)\n",
      "ids = encoder.encode(\"hello world\")\n",
      "text = encoder.decode([1, 2, 3, 4])\n",
      "```\n",
      "\u001b[1;31mInit docstring:\u001b[0m\n",
      "Constructs a SubwordTextEncoder from a vocabulary list.\n",
      "\n",
      "Note: To generate a vocabulary from a corpus, use\n",
      "`tfds.deprecated.text.SubwordTextEncoder.build_from_corpus`.\n",
      "\n",
      "Args:\n",
      "  vocab_list: `list<str>`, list of subwords for the vocabulary. Note that an\n",
      "    underscore at the end of a subword indicates the end of the word (i.e. a\n",
      "    space will be inserted afterwards when decoding). Underscores in the\n",
      "    interior of subwords are disallowed and should use the underscore escape\n",
      "    sequence.\n"
     ]
    }
   ],
   "source": [
    "?tokenizer"
   ]
  },
  {
   "cell_type": "code",
   "execution_count": 9,
   "metadata": {},
   "outputs": [
    {
     "name": "stdout",
     "output_type": "stream",
     "text": [
      "Tokenized string is [6307, 2327, 4043, 2120, 2, 48, 4249, 4429, 7, 2652, 8050]\n",
      "The original string:TensorFlow, from basics to mastery\n"
     ]
    }
   ],
   "source": [
    "sample_string = 'TensorFlow, from basics to mastery'\n",
    "\n",
    "tokenized_string = tokenizer.encode(sample_string)\n",
    "print ('Tokenized string is {}'.format(tokenized_string))\n",
    "\n",
    "original_string = tokenizer.decode(tokenized_string)\n",
    "print('The original string:{}'.format(original_string))\n",
    "\n",
    "\n",
    "# expected output:\n",
    "# Tokenized string is [6307, 2327, 4043, 2120, 2, 48, 4249, 4429, 7, 2652, 8050]\n",
    "# The original string: TensorFlow, from basics to mastery\n"
   ]
  },
  {
   "cell_type": "code",
   "execution_count": 10,
   "metadata": {},
   "outputs": [
    {
     "name": "stdout",
     "output_type": "stream",
     "text": [
      "6307 ----> Ten\n",
      "2327 ----> sor\n",
      "4043 ----> Fl\n",
      "2120 ----> ow\n",
      "2 ----> , \n",
      "48 ----> from \n",
      "4249 ----> basi\n",
      "4429 ----> cs \n",
      "7 ----> to \n",
      "2652 ----> master\n",
      "8050 ----> y\n"
     ]
    }
   ],
   "source": [
    "for ts in tokenized_string:\n",
    "  print ('{} ----> {}'.format(ts, tokenizer.decode([ts])))"
   ]
  },
  {
   "cell_type": "code",
   "execution_count": 14,
   "metadata": {},
   "outputs": [
    {
     "name": "stdout",
     "output_type": "stream",
     "text": [
      "Help on method padded_batch in module tensorflow.python.data.ops.dataset_ops:\n",
      "\n",
      "padded_batch(batch_size, padded_shapes, padding_values=None, drop_remainder=False) method of tensorflow.python.data.ops.dataset_ops.ShuffleDataset instance\n",
      "    Combines consecutive elements of this dataset into padded batches.\n",
      "    \n",
      "    This transformation combines multiple consecutive elements of the input\n",
      "    dataset into a single element.\n",
      "    \n",
      "    Like `tf.data.Dataset.batch`, the components of the resulting element will\n",
      "    have an additional outer dimension, which will be `batch_size` (or\n",
      "    `N % batch_size` for the last element if `batch_size` does not divide the\n",
      "    number of input elements `N` evenly and `drop_remainder` is `False`). If\n",
      "    your program depends on the batches having the same outer dimension, you\n",
      "    should set the `drop_remainder` argument to `True` to prevent the smaller\n",
      "    batch from being produced.\n",
      "    \n",
      "    Unlike `tf.data.Dataset.batch`, the input elements to be batched may have\n",
      "    different shapes, and this transformation will pad each component to the\n",
      "    respective shape in `padding_shapes`. The `padding_shapes` argument\n",
      "    determines the resulting shape for each dimension of each component in an\n",
      "    output element:\n",
      "    \n",
      "    * If the dimension is a constant (e.g. `tf.compat.v1.Dimension(37)`), the\n",
      "    component will be padded out to that length in that dimension.\n",
      "    * If the dimension is unknown (e.g. `tf.compat.v1.Dimension(None)`), the\n",
      "    component will be padded out to the maximum length of all elements in that\n",
      "    dimension.\n",
      "    \n",
      "    >>> elements = [[1, 2],\n",
      "    ...             [3, 4, 5],\n",
      "    ...             [6, 7],\n",
      "    ...             [8]]\n",
      "    >>> A = tf.data.Dataset.from_generator(lambda: iter(elements), tf.int32)\n",
      "    >>> # Pad to the smallest per-batch size that fits all elements.\n",
      "    >>> B = A.padded_batch(2, padded_shapes=[None])\n",
      "    >>> for element in B.as_numpy_iterator():\n",
      "    ...   print(element)\n",
      "    [[1 2 0]\n",
      "     [3 4 5]]\n",
      "    [[6 7]\n",
      "     [8 0]]\n",
      "    >>> # Pad to a fixed size.\n",
      "    >>> C = A.padded_batch(2, padded_shapes=3)\n",
      "    >>> for element in C.as_numpy_iterator():\n",
      "    ...   print(element)\n",
      "    [[1 2 0]\n",
      "     [3 4 5]]\n",
      "    [[6 7 0]\n",
      "     [8 0 0]]\n",
      "    >>> # Pad with a custom value.\n",
      "    >>> D = A.padded_batch(2, padded_shapes=3, padding_values=-1)\n",
      "    >>> for element in D.as_numpy_iterator():\n",
      "    ...   print(element)\n",
      "    [[ 1  2 -1]\n",
      "     [ 3  4  5]]\n",
      "    [[ 6  7 -1]\n",
      "     [ 8 -1 -1]]\n",
      "    >>> # Components of nested elements can be padded independently.\n",
      "    >>> elements = [([1, 2, 3], [10]),\n",
      "    ...             ([4, 5], [11, 12])]\n",
      "    >>> dataset = tf.data.Dataset.from_generator(\n",
      "    ...     lambda: iter(elements), (tf.int32, tf.int32))\n",
      "    >>> # Pad the first component of the tuple to length 4, and the second\n",
      "    >>> # component to the smallest size that fits.\n",
      "    >>> dataset = dataset.padded_batch(2,\n",
      "    ...     padded_shapes=([4], [None]),\n",
      "    ...     padding_values=(-1, 100))\n",
      "    >>> list(dataset.as_numpy_iterator())\n",
      "    [(array([[ 1,  2,  3, -1], [ 4,  5, -1, -1]], dtype=int32),\n",
      "      array([[ 10, 100], [ 11,  12]], dtype=int32))]\n",
      "    \n",
      "    See also `tf.data.experimental.dense_to_sparse_batch`, which combines\n",
      "    elements that may have different shapes into a `tf.SparseTensor`.\n",
      "    \n",
      "    Args:\n",
      "      batch_size: A `tf.int64` scalar `tf.Tensor`, representing the number of\n",
      "        consecutive elements of this dataset to combine in a single batch.\n",
      "      padded_shapes: A nested structure of `tf.TensorShape` or `tf.int64` vector\n",
      "        tensor-like objects representing the shape to which the respective\n",
      "        component of each input element should be padded prior to batching. Any\n",
      "        unknown dimensions (e.g. `tf.compat.v1.Dimension(None)` in a\n",
      "        `tf.TensorShape` or `-1` in a tensor-like object) will be padded to the\n",
      "        maximum size of that dimension in each batch.\n",
      "      padding_values: (Optional.) A nested structure of scalar-shaped\n",
      "        `tf.Tensor`, representing the padding values to use for the respective\n",
      "        components.  Defaults are `0` for numeric types and the empty string for\n",
      "        string types.\n",
      "      drop_remainder: (Optional.) A `tf.bool` scalar `tf.Tensor`, representing\n",
      "        whether the last batch should be dropped in the case it has fewer than\n",
      "        `batch_size` elements; the default behavior is not to drop the smaller\n",
      "        batch.\n",
      "    \n",
      "    Returns:\n",
      "      Dataset: A `Dataset`.\n",
      "\n"
     ]
    }
   ],
   "source": [
    "import tensorflow as tf\n",
    "padded_shapes = (\n",
    "    tf.TensorShape([None])\n",
    ")\n",
    "help(train_data.padded_batch)"
   ]
  },
  {
   "cell_type": "code",
   "execution_count": 18,
   "metadata": {},
   "outputs": [],
   "source": [
    "BUFFER_SIZE = 25000\n",
    "BATCH_SIZE = 1\n",
    "padded_shapes = ([None],()) \n",
    "train_data = train_data.shuffle(BUFFER_SIZE)\n",
    "train_data = train_data.padded_batch(BATCH_SIZE,padded_shapes=padded_shapes)\n",
    "test_data = test_data.padded_batch(BATCH_SIZE,padded_shapes=padded_shapes)"
   ]
  },
  {
   "cell_type": "code",
   "execution_count": 19,
   "metadata": {},
   "outputs": [
    {
     "name": "stdout",
     "output_type": "stream",
     "text": [
      "Model: \"sequential\"\n",
      "_________________________________________________________________\n",
      "Layer (type)                 Output Shape              Param #   \n",
      "=================================================================\n",
      "embedding (Embedding)        (None, None, 64)          523840    \n",
      "_________________________________________________________________\n",
      "global_average_pooling1d (Gl (None, 64)                0         \n",
      "_________________________________________________________________\n",
      "dense (Dense)                (None, 6)                 390       \n",
      "_________________________________________________________________\n",
      "dense_1 (Dense)              (None, 1)                 7         \n",
      "=================================================================\n",
      "Total params: 524,237\n",
      "Trainable params: 524,237\n",
      "Non-trainable params: 0\n",
      "_________________________________________________________________\n"
     ]
    }
   ],
   "source": [
    "embedding_dim = 64\n",
    "model = tf.keras.Sequential([\n",
    "    tf.keras.layers.Embedding(tokenizer.vocab_size, embedding_dim),\n",
    "    tf.keras.layers.GlobalAveragePooling1D(),\n",
    "    tf.keras.layers.Dense(6, activation='relu'),\n",
    "    tf.keras.layers.Dense(1, activation='sigmoid')\n",
    "])\n",
    "\n",
    "model.summary()"
   ]
  },
  {
   "cell_type": "code",
   "execution_count": 20,
   "metadata": {},
   "outputs": [
    {
     "name": "stdout",
     "output_type": "stream",
     "text": [
      "Epoch 1/10\n",
      "25000/25000 [==============================] - 278s 11ms/step - loss: 0.3385 - accuracy: 0.8546 - val_loss: 0.2999 - val_accuracy: 0.8748\n",
      "Epoch 2/10\n",
      "25000/25000 [==============================] - 224s 9ms/step - loss: 0.2176 - accuracy: 0.9181 - val_loss: 0.3062 - val_accuracy: 0.8720\n",
      "Epoch 3/10\n",
      "25000/25000 [==============================] - 216s 9ms/step - loss: 0.1810 - accuracy: 0.9324 - val_loss: 0.3423 - val_accuracy: 0.8681\n",
      "Epoch 4/10\n",
      "25000/25000 [==============================] - 212s 8ms/step - loss: 0.1565 - accuracy: 0.9428 - val_loss: 0.3844 - val_accuracy: 0.8640\n",
      "Epoch 5/10\n",
      "25000/25000 [==============================] - 212s 8ms/step - loss: 0.1364 - accuracy: 0.9505 - val_loss: 0.4114 - val_accuracy: 0.8615\n",
      "Epoch 6/10\n",
      "25000/25000 [==============================] - 212s 8ms/step - loss: 0.1175 - accuracy: 0.9559 - val_loss: 0.4413 - val_accuracy: 0.8530\n",
      "Epoch 7/10\n",
      "25000/25000 [==============================] - 235s 9ms/step - loss: 0.0994 - accuracy: 0.9643 - val_loss: 0.4806 - val_accuracy: 0.8514\n",
      "Epoch 8/10\n",
      "25000/25000 [==============================] - 215s 9ms/step - loss: 0.0813 - accuracy: 0.9710 - val_loss: 0.5877 - val_accuracy: 0.8488\n",
      "Epoch 9/10\n",
      "25000/25000 [==============================] - 215s 9ms/step - loss: 0.0642 - accuracy: 0.9771 - val_loss: 0.7576 - val_accuracy: 0.8448\n",
      "Epoch 10/10\n",
      "25000/25000 [==============================] - 214s 9ms/step - loss: 0.0506 - accuracy: 0.9832 - val_loss: 0.7940 - val_accuracy: 0.8426\n"
     ]
    }
   ],
   "source": [
    "num_epochs = 10\n",
    "\n",
    "model.compile(loss='binary_crossentropy',optimizer='adam',metrics=['accuracy'])\n",
    "\n",
    "history = model.fit(train_data, epochs=num_epochs, validation_data=test_data)"
   ]
  },
  {
   "cell_type": "code",
   "execution_count": 22,
   "metadata": {},
   "outputs": [],
   "source": [
    "model.save('my_model.h5')"
   ]
  },
  {
   "cell_type": "code",
   "execution_count": 23,
   "metadata": {},
   "outputs": [
    {
     "data": {
      "image/png": "[encoded data removed]",
      "text/plain": [
       "<Figure size 432x288 with 1 Axes>"
      ]
     },
     "metadata": {
      "needs_background": "light"
     },
     "output_type": "display_data"
    },
    {
     "data": {
      "image/png": "[encoded data removed]",
      "text/plain": [
       "<Figure size 432x288 with 1 Axes>"
      ]
     },
     "metadata": {
      "needs_background": "light"
     },
     "output_type": "display_data"
    }
   ],
   "source": [
    "import matplotlib.pyplot as plt\n",
    "\n",
    "\n",
    "def plot_graphs(history, string):\n",
    "  plt.plot(history.history[string])\n",
    "  plt.plot(history.history['val_'+string])\n",
    "  plt.xlabel(\"Epochs\")\n",
    "  plt.ylabel(string)\n",
    "  plt.legend([string, 'val_'+string])\n",
    "  plt.show()\n",
    "  \n",
    "plot_graphs(history, \"accuracy\")\n",
    "plot_graphs(history, \"loss\")"
   ]
  },
  {
   "cell_type": "code",
   "execution_count": 24,
   "metadata": {},
   "outputs": [
    {
     "name": "stdout",
     "output_type": "stream",
     "text": [
      "(8185, 64)\n"
     ]
    }
   ],
   "source": [
    "e = model.layers[0]\n",
    "weights = e.get_weights()[0]\n",
    "print(weights.shape) # shape: (vocab_size, embedding_dim)\n",
    "\n",
    "import io\n",
    "\n",
    "out_v = io.open('z_vecs.tsv', 'w', encoding='utf-8')\n",
    "out_m = io.open('z_meta.tsv', 'w', encoding='utf-8')\n",
    "for word_num in range(1, tokenizer.vocab_size):\n",
    "  word = tokenizer.decode([word_num])\n",
    "  embeddings = weights[word_num]\n",
    "  out_m.write(word + \"\\n\")\n",
    "  out_v.write('\\t'.join([str(x) for x in embeddings]) + \"\\n\")\n",
    "out_v.close()\n",
    "out_m.close()\n",
    "\n",
    "\n",
    "# try:\n",
    "#   from google.colab import files\n",
    "# except ImportError:\n",
    "#   pass\n",
    "# else:\n",
    "#   files.download('vecs.tsv')\n",
    "#   files.download('meta.tsv')"
   ]
  }
 ],
 "metadata": {
  "interpreter": {
   "hash": "23b34fee034e6c6559cf1b732e166f57ae608166b2226a83e90a4ecbc0876e39"
  },
  "kernelspec": {
   "display_name": "Python 3.7.13",
   "language": "python",
   "name": "python3"
  },
  "language_info": {
   "codemirror_mode": {
    "name": "ipython",
    "version": 3
   },
   "file_extension": ".py",
   "mimetype": "text/x-python",
   "name": "python",
   "nbconvert_exporter": "python",
   "pygments_lexer": "ipython3",
   "version": "3.7.13"
  },
  "orig_nbformat": 4
 },
 "nbformat": 4,
 "nbformat_minor": 2
}
