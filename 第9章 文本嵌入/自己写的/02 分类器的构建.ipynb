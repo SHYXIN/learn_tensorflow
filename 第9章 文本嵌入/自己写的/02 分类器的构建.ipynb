{
 "cells": [
  {
   "cell_type": "markdown",
   "metadata": {},
   "source": [
    "读取数据从json文件中"
   ]
  },
  {
   "cell_type": "code",
   "execution_count": 1,
   "metadata": {},
   "outputs": [],
   "source": [
    "import json\n",
    "\n",
    "with open('sarcasm.json','r') as f:\n",
    "    datastore = json.load(f)\n",
    "\n",
    "sentences = []\n",
    "labels=[]\n",
    "\n",
    "for item in datastore:\n",
    "    sentences.append(item['headline'])\n",
    "    labels.append(item['is_sarcastic'])"
   ]
  },
  {
   "cell_type": "markdown",
   "metadata": {},
   "source": [
    "切分数据为训练集和测试集"
   ]
  },
  {
   "cell_type": "code",
   "execution_count": 2,
   "metadata": {},
   "outputs": [],
   "source": [
    "training_size = 20000\n",
    "\n",
    "training_sentences,testing_sentences = sentences[0:training_size],sentences[training_size:]\n",
    "training_labels,testing_labels = labels[0:training_size],labels[training_size:]"
   ]
  },
  {
   "cell_type": "markdown",
   "metadata": {},
   "source": [
    "将句子进行词条化和序列化"
   ]
  },
  {
   "cell_type": "code",
   "execution_count": 9,
   "metadata": {},
   "outputs": [],
   "source": [
    "from tensorflow.keras.preprocessing.text import Tokenizer\n",
    "from tensorflow.keras.preprocessing.sequence import pad_sequences\n",
    "\n",
    "vocab_size = 10000  # 最大词典数，将按照频次的由高到低排序\n",
    "oov_token = '<OOV>'  # 设置未登录的词\n",
    "# 词条化\n",
    "tokenizer = Tokenizer(num_words=vocab_size,oov_token=oov_token) \n",
    "tokenizer.fit_on_texts(training_sentences)\n",
    "\n",
    "# 获得词典\n",
    "word_index = tokenizer.word_index\n",
    "\n",
    "# pad时的一些参数\n",
    "max_length = 100  # 序列的最大长度\n",
    "trunc_type = 'post'  # 在后面截断\n",
    "\n",
    "# 训练集\n",
    "# 根据词典将句子转为序列，此时的序列长度不一致\n",
    "training_sequences=tokenizer.texts_to_sequences(training_sentences)\n",
    "\n",
    "# 将序列的长度调整一致\n",
    "training_padded = pad_sequences(training_sequences,maxlen=max_length,truncating=trunc_type)\n",
    "\n",
    "\n",
    "# 测试集\n",
    "# 根据词典将句子转为序列，此时的序列长度不一致\n",
    "testing_sequences=tokenizer.texts_to_sequences(testing_sentences)\n",
    "# 将序列的长度调整一致\n",
    "testing_padded = pad_sequences(testing_sequences,maxlen=max_length,truncating=trunc_type)\n"
   ]
  },
  {
   "cell_type": "code",
   "execution_count": 5,
   "metadata": {},
   "outputs": [
    {
     "name": "stdout",
     "output_type": "stream",
     "text": [
      "\u001b[1;31mType:\u001b[0m        Tokenizer\n",
      "\u001b[1;31mString form:\u001b[0m <keras_preprocessing.text.Tokenizer object at 0x000002800DF1A408>\n",
      "\u001b[1;31mFile:\u001b[0m        c:\\users\\wx847\\anaconda3\\envs\\learn_tensorflow\\lib\\site-packages\\keras_preprocessing\\text.py\n",
      "\u001b[1;31mDocstring:\u001b[0m  \n",
      "Text tokenization utility class.\n",
      "\n",
      "This class allows to vectorize a text corpus, by turning each\n",
      "text into either a sequence of integers (each integer being the index\n",
      "of a token in a dictionary) or into a vector where the coefficient\n",
      "for each token could be binary, based on word count, based on tf-idf...\n",
      "\n",
      "# Arguments\n",
      "    num_words: the maximum number of words to keep, based\n",
      "        on word frequency. Only the most common `num_words-1` words will\n",
      "        be kept.\n",
      "    filters: a string where each element is a character that will be\n",
      "        filtered from the texts. The default is all punctuation, plus\n",
      "        tabs and line breaks, minus the `'` character.\n",
      "    lower: boolean. Whether to convert the texts to lowercase.\n",
      "    split: str. Separator for word splitting.\n",
      "    char_level: if True, every character will be treated as a token.\n",
      "    oov_token: if given, it will be added to word_index and used to\n",
      "        replace out-of-vocabulary words during text_to_sequence calls\n",
      "\n",
      "By default, all punctuation is removed, turning the texts into\n",
      "space-separated sequences of words\n",
      "(words maybe include the `'` character). These sequences are then\n",
      "split into lists of tokens. They will then be indexed or vectorized.\n",
      "\n",
      "`0` is a reserved index that won't be assigned to any word.\n"
     ]
    }
   ],
   "source": [
    "?tokenizer"
   ]
  },
  {
   "cell_type": "code",
   "execution_count": 7,
   "metadata": {},
   "outputs": [
    {
     "name": "stdout",
     "output_type": "stream",
     "text": [
      "Help on function pad_sequences in module keras_preprocessing.sequence:\n",
      "\n",
      "pad_sequences(sequences, maxlen=None, dtype='int32', padding='pre', truncating='pre', value=0.0)\n",
      "    Pads sequences to the same length.\n",
      "    \n",
      "    This function transforms a list of\n",
      "    `num_samples` sequences (lists of integers)\n",
      "    into a 2D Numpy array of shape `(num_samples, num_timesteps)`.\n",
      "    `num_timesteps` is either the `maxlen` argument if provided,\n",
      "    or the length of the longest sequence otherwise.\n",
      "    \n",
      "    Sequences that are shorter than `num_timesteps`\n",
      "    are padded with `value` at the beginning or the end\n",
      "    if padding='post.\n",
      "    \n",
      "    Sequences longer than `num_timesteps` are truncated\n",
      "    so that they fit the desired length.\n",
      "    The position where padding or truncation happens is determined by\n",
      "    the arguments `padding` and `truncating`, respectively.\n",
      "    \n",
      "    Pre-padding is the default.\n",
      "    \n",
      "    # Arguments\n",
      "        sequences: List of lists, where each element is a sequence.\n",
      "        maxlen: Int, maximum length of all sequences.\n",
      "        dtype: Type of the output sequences.\n",
      "            To pad sequences with variable length strings, you can use `object`.\n",
      "        padding: String, 'pre' or 'post':\n",
      "            pad either before or after each sequence.\n",
      "        truncating: String, 'pre' or 'post':\n",
      "            remove values from sequences larger than\n",
      "            `maxlen`, either at the beginning or at the end of the sequences.\n",
      "        value: Float or String, padding value.\n",
      "    \n",
      "    # Returns\n",
      "        x: Numpy array with shape `(len(sequences), maxlen)`\n",
      "    \n",
      "    # Raises\n",
      "        ValueError: In case of invalid values for `truncating` or `padding`,\n",
      "            or in case of invalid shape for a `sequences` entry.\n",
      "\n"
     ]
    }
   ],
   "source": [
    "help(pad_sequences)"
   ]
  },
  {
   "cell_type": "markdown",
   "metadata": {},
   "source": [
    "初始分类器模型"
   ]
  },
  {
   "cell_type": "code",
   "execution_count": 11,
   "metadata": {},
   "outputs": [],
   "source": [
    "import tensorflow as tf\n",
    "\n",
    "embedding_dim = 16\n",
    "model = tf.keras.Sequential([\n",
    "    tf.keras.layers.Embedding(vocab_size,embedding_dim,input_length=max_length),\n",
    "    tf.keras.layers.GlobalAveragePooling1D(), # 取均值，降低维度\n",
    "    tf.keras.layers.Dense(21,activation='relu'),\n",
    "    tf.keras.layers.Dense(1,activation='sigmoid'),\n",
    "])"
   ]
  },
  {
   "cell_type": "markdown",
   "metadata": {},
   "source": [
    "查看一下网络的结构"
   ]
  },
  {
   "cell_type": "code",
   "execution_count": 13,
   "metadata": {},
   "outputs": [
    {
     "name": "stdout",
     "output_type": "stream",
     "text": [
      "Model: \"sequential\"\n",
      "_________________________________________________________________\n",
      "Layer (type)                 Output Shape              Param #   \n",
      "=================================================================\n",
      "embedding_1 (Embedding)      (None, 100, 16)           160000    \n",
      "_________________________________________________________________\n",
      "global_average_pooling1d (Gl (None, 16)                0         \n",
      "_________________________________________________________________\n",
      "dense (Dense)                (None, 21)                357       \n",
      "_________________________________________________________________\n",
      "dense_1 (Dense)              (None, 1)                 22        \n",
      "=================================================================\n",
      "Total params: 160,379\n",
      "Trainable params: 160,379\n",
      "Non-trainable params: 0\n",
      "_________________________________________________________________\n"
     ]
    }
   ],
   "source": [
    "model.summary()"
   ]
  },
  {
   "cell_type": "code",
   "execution_count": 16,
   "metadata": {},
   "outputs": [
    {
     "ename": "AttributeError",
     "evalue": "'Sequential' object has no attribute 'complie'",
     "output_type": "error",
     "traceback": [
      "\u001b[1;31m---------------------------------------------------------------------------\u001b[0m",
      "\u001b[1;31mAttributeError\u001b[0m                            Traceback (most recent call last)",
      "\u001b[1;32m~\\AppData\\Local\\Temp\\ipykernel_3836\\1758451188.py\u001b[0m in \u001b[0;36m<module>\u001b[1;34m\u001b[0m\n\u001b[1;32m----> 1\u001b[1;33m \u001b[0mhelp\u001b[0m\u001b[1;33m(\u001b[0m\u001b[0mmodel\u001b[0m\u001b[1;33m.\u001b[0m\u001b[0mcomplie\u001b[0m\u001b[1;33m)\u001b[0m\u001b[1;33m\u001b[0m\u001b[1;33m\u001b[0m\u001b[0m\n\u001b[0m",
      "\u001b[1;31mAttributeError\u001b[0m: 'Sequential' object has no attribute 'complie'"
     ]
    }
   ],
   "source": [
    "help(model.complie)"
   ]
  },
  {
   "cell_type": "markdown",
   "metadata": {},
   "source": [
    "编译模型，指定优化函数和损失函数"
   ]
  },
  {
   "cell_type": "code",
   "execution_count": 17,
   "metadata": {},
   "outputs": [],
   "source": [
    "model.compile(loss='binary_crossentropy',optimizer='adam',metrics=['accuracy'])"
   ]
  },
  {
   "cell_type": "markdown",
   "metadata": {},
   "source": [
    "训练模型"
   ]
  },
  {
   "cell_type": "code",
   "execution_count": 25,
   "metadata": {},
   "outputs": [
    {
     "name": "stdout",
     "output_type": "stream",
     "text": [
      "<class 'numpy.ndarray'>\n",
      "<class 'numpy.ndarray'>\n",
      "<class 'numpy.ndarray'>\n",
      "<class 'list'>\n",
      "Train on 20000 samples, validate on 6709 samples\n",
      "Epoch 1/30\n",
      "20000/20000 - 3s - loss: 0.6648 - accuracy: 0.5898 - val_loss: 0.5859 - val_accuracy: 0.6676\n",
      "Epoch 2/30\n",
      "20000/20000 - 2s - loss: 0.4413 - accuracy: 0.8264 - val_loss: 0.3963 - val_accuracy: 0.8290\n",
      "Epoch 3/30\n",
      "20000/20000 - 2s - loss: 0.3186 - accuracy: 0.8738 - val_loss: 0.3609 - val_accuracy: 0.8451\n",
      "Epoch 4/30\n",
      "20000/20000 - 2s - loss: 0.2665 - accuracy: 0.8977 - val_loss: 0.3640 - val_accuracy: 0.8375\n",
      "Epoch 5/30\n",
      "20000/20000 - 2s - loss: 0.2298 - accuracy: 0.9115 - val_loss: 0.3443 - val_accuracy: 0.8566\n",
      "Epoch 6/30\n",
      "20000/20000 - 2s - loss: 0.2026 - accuracy: 0.9239 - val_loss: 0.3522 - val_accuracy: 0.8529\n",
      "Epoch 7/30\n",
      "20000/20000 - 2s - loss: 0.1814 - accuracy: 0.9316 - val_loss: 0.3580 - val_accuracy: 0.8556\n",
      "Epoch 8/30\n",
      "20000/20000 - 2s - loss: 0.1613 - accuracy: 0.9417 - val_loss: 0.3706 - val_accuracy: 0.8544\n",
      "Epoch 9/30\n",
      "20000/20000 - 2s - loss: 0.1456 - accuracy: 0.9459 - val_loss: 0.3941 - val_accuracy: 0.8492\n",
      "Epoch 10/30\n",
      "20000/20000 - 2s - loss: 0.1326 - accuracy: 0.9533 - val_loss: 0.4048 - val_accuracy: 0.8518\n",
      "Epoch 11/30\n",
      "20000/20000 - 2s - loss: 0.1226 - accuracy: 0.9583 - val_loss: 0.4245 - val_accuracy: 0.8515\n",
      "Epoch 12/30\n",
      "20000/20000 - 2s - loss: 0.1114 - accuracy: 0.9614 - val_loss: 0.4443 - val_accuracy: 0.8502\n",
      "Epoch 13/30\n",
      "20000/20000 - 2s - loss: 0.1012 - accuracy: 0.9660 - val_loss: 0.4719 - val_accuracy: 0.8408\n",
      "Epoch 14/30\n",
      "20000/20000 - 2s - loss: 0.0932 - accuracy: 0.9683 - val_loss: 0.4983 - val_accuracy: 0.8422\n",
      "Epoch 15/30\n",
      "20000/20000 - 2s - loss: 0.0869 - accuracy: 0.9718 - val_loss: 0.5297 - val_accuracy: 0.8399\n",
      "Epoch 16/30\n",
      "20000/20000 - 2s - loss: 0.0800 - accuracy: 0.9737 - val_loss: 0.5547 - val_accuracy: 0.8383\n",
      "Epoch 17/30\n",
      "20000/20000 - 2s - loss: 0.0735 - accuracy: 0.9768 - val_loss: 0.5775 - val_accuracy: 0.8360\n",
      "Epoch 18/30\n",
      "20000/20000 - 2s - loss: 0.0668 - accuracy: 0.9792 - val_loss: 0.6218 - val_accuracy: 0.8335\n",
      "Epoch 19/30\n",
      "20000/20000 - 2s - loss: 0.0617 - accuracy: 0.9807 - val_loss: 0.6503 - val_accuracy: 0.8305\n",
      "Epoch 20/30\n",
      "20000/20000 - 2s - loss: 0.0569 - accuracy: 0.9824 - val_loss: 0.6742 - val_accuracy: 0.8286\n",
      "Epoch 21/30\n",
      "20000/20000 - 2s - loss: 0.0519 - accuracy: 0.9848 - val_loss: 0.7231 - val_accuracy: 0.8267\n",
      "Epoch 22/30\n",
      "20000/20000 - 2s - loss: 0.0480 - accuracy: 0.9854 - val_loss: 0.7727 - val_accuracy: 0.8226\n",
      "Epoch 23/30\n",
      "20000/20000 - 2s - loss: 0.0451 - accuracy: 0.9873 - val_loss: 0.7838 - val_accuracy: 0.8234\n",
      "Epoch 24/30\n",
      "20000/20000 - 2s - loss: 0.0401 - accuracy: 0.9890 - val_loss: 0.8239 - val_accuracy: 0.8226\n",
      "Epoch 25/30\n",
      "20000/20000 - 2s - loss: 0.0386 - accuracy: 0.9882 - val_loss: 0.8756 - val_accuracy: 0.8186\n",
      "Epoch 26/30\n",
      "20000/20000 - 2s - loss: 0.0365 - accuracy: 0.9897 - val_loss: 0.9252 - val_accuracy: 0.8173\n",
      "Epoch 27/30\n",
      "20000/20000 - 2s - loss: 0.0322 - accuracy: 0.9913 - val_loss: 0.9590 - val_accuracy: 0.8170\n",
      "Epoch 28/30\n",
      "20000/20000 - 2s - loss: 0.0297 - accuracy: 0.9924 - val_loss: 0.9577 - val_accuracy: 0.8152\n",
      "Epoch 29/30\n",
      "20000/20000 - 2s - loss: 0.0277 - accuracy: 0.9923 - val_loss: 0.9924 - val_accuracy: 0.8155\n",
      "Epoch 30/30\n",
      "20000/20000 - 2s - loss: 0.0260 - accuracy: 0.9937 - val_loss: 1.0282 - val_accuracy: 0.8146\n"
     ]
    }
   ],
   "source": [
    "import numpy as np\n",
    "\n",
    "num_epochs = 30\n",
    "print(type(np.array(training_padded)))\n",
    "print(type(training_padded))\n",
    "\n",
    "print(type(np.array(training_labels)))\n",
    "print(type(training_labels))\n",
    "training_labels_array= np.array(training_labels)\n",
    "testing_labels_array= np.array(testing_labels)\n",
    "\n",
    "history = model.fit(training_padded,training_labels_array,epochs=num_epochs,validation_data=(testing_padded,testing_labels_array),verbose=2)\n"
   ]
  },
  {
   "cell_type": "markdown",
   "metadata": {},
   "source": [
    "以图表的形式展示训练过程"
   ]
  },
  {
   "cell_type": "code",
   "execution_count": 30,
   "metadata": {},
   "outputs": [
    {
     "data": {
      "image/png": "[encoded data removed]",
      "text/plain": [
       "<Figure size 432x288 with 1 Axes>"
      ]
     },
     "metadata": {
      "needs_background": "light"
     },
     "output_type": "display_data"
    },
    {
     "data": {
      "image/png": "[encoded data removed]",
      "text/plain": [
       "<Figure size 432x288 with 1 Axes>"
      ]
     },
     "metadata": {
      "needs_background": "light"
     },
     "output_type": "display_data"
    }
   ],
   "source": [
    "import matplotlib.pyplot as plt\n",
    "\n",
    "def plot_graphs(history,key):\n",
    "    plt.plot(history.history[key])\n",
    "    plt.plot(history.history['val_'+key])\n",
    "    plt.xlabel('Epochs')\n",
    "    plt.ylabel(key)\n",
    "    plt.legend([key, 'val_'+key])\n",
    "    plt.show()\n",
    "    \n",
    "plot_graphs(history,'accuracy')\n",
    "plot_graphs(history,'loss')"
   ]
  },
  {
   "cell_type": "markdown",
   "metadata": {},
   "source": [
    "分别是训练集和测试集上的准确率、损失率"
   ]
  },
  {
   "cell_type": "code",
   "execution_count": 39,
   "metadata": {},
   "outputs": [
    {
     "name": "stdout",
     "output_type": "stream",
     "text": [
      "mom starting to fear son's web series closest thing she will have to grandchild\n",
      "mom starting to fear son's web series closest thing she will have to grandchild\n",
      "? ? ? ? ? ? ? ? ? ? ? ? ? ? ? ? ? ? ? ? ? ? ? ? ? ? ? ? ? ? ? ? ? ? ? ? ? ? ? ? ? ? ? ? ? ? ? ? ? ? ? ? ? ? ? ? ? ? ? ? ? ? ? ? ? ? ? ? ? ? ? ? ? ? ? ? ? ? ? ? ? ? ? ? ? ? mom starting to fear son's web series closest thing she will have to grandchild\n",
      "1\n"
     ]
    }
   ],
   "source": [
    "# 将键值反转\n",
    "reverse_word_index = {v:k for k,v in word_index.items()}\n",
    "\n",
    "def decode_sentence(text_seq):\n",
    "    \"\"\"将矩阵转成文本\"\"\"\n",
    "    return ' '.join([reverse_word_index.get(i, '?') for i in text_seq])\n",
    "\n",
    "print(training_sentences[2])  # 原话\n",
    "print(decode_sentence(training_sequences[2]))  # 可转成原话\n",
    "print(decode_sentence(training_padded[2])) # 通过pad转成的话，会在前面或者后面有？填充\n",
    "print(training_labels[2])  # 这句话的标签\n",
    "# 如下图\n"
   ]
  },
  {
   "cell_type": "markdown",
   "metadata": {},
   "source": [
    "获取embedding层的权重，后续可以进行可视化"
   ]
  },
  {
   "cell_type": "code",
   "execution_count": 41,
   "metadata": {},
   "outputs": [
    {
     "name": "stdout",
     "output_type": "stream",
     "text": [
      "(10000, 16)\n"
     ]
    }
   ],
   "source": [
    "e = model.layers[0]\n",
    "weights = e.get_weights()[0]\n",
    "print(weights.shape)  # shape: (vocab_size, embedding_dim)"
   ]
  },
  {
   "cell_type": "code",
   "execution_count": 42,
   "metadata": {},
   "outputs": [],
   "source": [
    "out_v = open('sarcasm_vecs.tsv','w',encoding='utf-8')\n",
    "out_m = open('sarcasm_meta.tsv','w',encoding='utf-8')\n",
    "\n",
    "for word_num in range(1,vocab_size):\n",
    "    word = reverse_word_index[word_num]\n",
    "    embeddings= weights[word_num]\n",
    "    out_m.write(word+'\\n')\n",
    "    out_v.write('\\t'.join([str(x) for x in embeddings]) + '\\n')\n",
    "out_m.close()\n",
    "out_v.close()"
   ]
  },
  {
   "cell_type": "markdown",
   "metadata": {},
   "source": [
    "可视化网站\n",
    "\n",
    "http://projector.tensorflow.org/\n",
    "\n",
    "load  加载选择数据\n",
    "Sphereize data  球形化数据\n",
    "\n",
    "搜索boring  全是负面相关的\n",
    "搜索exciting  正向的\n",
    "搜索oscar  都是"
   ]
  }
 ],
 "metadata": {
  "interpreter": {
   "hash": "23b34fee034e6c6559cf1b732e166f57ae608166b2226a83e90a4ecbc0876e39"
  },
  "kernelspec": {
   "display_name": "Python 3.7.13",
   "language": "python",
   "name": "python3"
  },
  "language_info": {
   "codemirror_mode": {
    "name": "ipython",
    "version": 3
   },
   "file_extension": ".py",
   "mimetype": "text/x-python",
   "name": "python",
   "nbconvert_exporter": "python",
   "pygments_lexer": "ipython3",
   "version": "3.7.13"
  },
  "orig_nbformat": 4
 },
 "nbformat": 4,
 "nbformat_minor": 2
}
